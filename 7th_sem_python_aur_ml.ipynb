{
  "nbformat": 4,
  "nbformat_minor": 0,
  "metadata": {
    "colab": {
      "provenance": [],
      "authorship_tag": "ABX9TyOYlabvWP7UJCHYbeFeEsy9",
      "include_colab_link": true
    },
    "kernelspec": {
      "name": "python3",
      "display_name": "Python 3"
    },
    "language_info": {
      "name": "python"
    }
  },
  "cells": [
    {
      "cell_type": "markdown",
      "metadata": {
        "id": "view-in-github",
        "colab_type": "text"
      },
      "source": [
        "<a href=\"https://colab.research.google.com/github/devendrapandey2005/DSA-.PY/blob/main/7th_sem_python_aur_ml.ipynb\" target=\"_parent\"><img src=\"https://colab.research.google.com/assets/colab-badge.svg\" alt=\"Open In Colab\"/></a>"
      ]
    },
    {
      "cell_type": "code",
      "execution_count": null,
      "metadata": {
        "id": "ee30ZFf5gj4b",
        "colab": {
          "base_uri": "https://localhost:8080/"
        },
        "outputId": "7e3e42b4-a997-455b-c328-f272b6c5a336"
      },
      "outputs": [
        {
          "name": "stdout",
          "output_type": "stream",
          "text": [
            "Enter the number of electricity units consumed: 5\n"
          ]
        }
      ],
      "source": [
        "'''write a program to input electrcity unit charges and calculate total electrcity bill\n",
        "according to the given condition:\n",
        "\n",
        "For first 50 units Rs. 0.50/unit\n",
        "\n",
        "For next 150 units Rs. 0.75/unit\n",
        "\n",
        "For next 250 units Rs. 1.20/unit\n",
        "\n",
        "For unit above 450 Rs. 1.50/unit\n",
        "\n",
        "An additional surcharge of 20% is added to the bill'''\n",
        "units = float(input(\"Enter the number of electricity units consumed: \"))\n",
        "bill = 0\n",
        "if units <= 50:\n",
        "    bill = units * 0.50\n",
        "elif units <=200:\n",
        "  bill = 50*0.50+(units-50)*0.75\n",
        "elif units <=450 :\n",
        "  bill = 50*0.5+150*0.75+250*1.50+(units-450)*1.50\n",
        "\n"
      ]
    },
    {
      "cell_type": "code",
      "source": [
        "'''wap to print if number is divisible by 3 print fizz , number is divisible by 5 print buzz number is divisible by both 3,5 then print fizz and buzz'''\n",
        "for i in range (1,21):\n",
        "  if i%3 == 0 and i%5 ==0:\n",
        "    print(\"fizz and buzz\")\n",
        "  elif i%3 == 0:\n",
        "    print(\"fizz\")\n",
        "  elif i%5 == 0:\n",
        "    print(\"buzz\")\n",
        "  else :\n",
        "    print(i)"
      ],
      "metadata": {
        "colab": {
          "base_uri": "https://localhost:8080/"
        },
        "id": "iVHJK0C0ILPa",
        "outputId": "7c15192a-5a8f-43ee-8bab-ad248adf1e26"
      },
      "execution_count": null,
      "outputs": [
        {
          "output_type": "stream",
          "name": "stdout",
          "text": [
            "1\n",
            "2\n",
            "fizz\n",
            "4\n",
            "buzz\n",
            "fizz\n",
            "7\n",
            "8\n",
            "fizz\n",
            "buzz\n",
            "11\n",
            "fizz\n",
            "13\n",
            "14\n",
            "fizz and buzz\n",
            "16\n",
            "17\n",
            "fizz\n",
            "19\n",
            "buzz\n"
          ]
        }
      ]
    },
    {
      "cell_type": "code",
      "source": [
        "'''wap which will print multiplication of all the even and odd the factor'''\n",
        "num = int(input(\"enter the number = \"))\n",
        "even_factor = 1\n",
        "odd_factor = 1\n",
        "for i in range(1,num+1):\n",
        "  if num%i == 0:\n",
        "    if i%2 == 0:\n",
        "      even_factor*=i\n",
        "    else:\n",
        "      odd_factor*=i\n",
        "print(even_factor,odd_factor)\n"
      ],
      "metadata": {
        "colab": {
          "base_uri": "https://localhost:8080/"
        },
        "id": "SOgf8xeJLXBh",
        "outputId": "2a1c917c-8feb-4611-add9-c9592841a867"
      },
      "execution_count": null,
      "outputs": [
        {
          "output_type": "stream",
          "name": "stdout",
          "text": [
            "enter the number = 25\n",
            "1 125\n"
          ]
        }
      ]
    },
    {
      "cell_type": "code",
      "source": [
        "'''determine the season based on month\n",
        "3 <=month <=5; \"spring \"\n",
        "6 <=month <=8; \"summer\"\n",
        "9 <=month <=11; \"autumn\"\n",
        "otherwise\n",
        "winter'''\n",
        "month = int(input(\"Enter the month (1-12): \"))\n",
        "\n",
        "if 3 <= month <= 5:\n",
        "    season = \"spring\"\n",
        "elif 6 <= month <= 8:\n",
        "    season = \"summer\"\n",
        "elif 9 <= month <= 11:\n",
        "    season = \"autumn\"\n",
        "else:\n",
        "    season = \"winter\"\n",
        "\n",
        "print(f\"The season for month {month} is {season}\")"
      ],
      "metadata": {
        "colab": {
          "base_uri": "https://localhost:8080/"
        },
        "id": "fPkIu2W9l1wV",
        "outputId": "06e05bfc-08d0-45da-858b-6c278346f905"
      },
      "execution_count": null,
      "outputs": [
        {
          "output_type": "stream",
          "name": "stdout",
          "text": [
            "Enter the month (1-12): 25\n",
            "The season for month 25 is winter\n"
          ]
        }
      ]
    },
    {
      "cell_type": "code",
      "source": [
        "'''Write a python program which accept the kilometres covered and calculate the bill according to the following criteria:\n",
        "\n",
        "First 10 Km > Rs11/km\n",
        "\n",
        "Next 90Km Rs 10/km\n",
        "\n",
        "After that > Rs9/km'''\n",
        "kilometers = float(input(\"Enter the kilometers covered: \"))\n",
        "bill = 0\n",
        "\n",
        "if kilometers <= 10:\n",
        "    bill = kilometers * 11\n",
        "elif kilometers <= 100:  # 10 + 90 = 100\n",
        "    bill = (10 * 11) + ((kilometers - 10) * 10)\n",
        "else:\n",
        "    bill = (10 * 11) + (90 * 10) + ((kilometers - 100) * 9)\n",
        "\n",
        "print(f\"The total bill is Rs {bill:.2f}\")"
      ],
      "metadata": {
        "id": "MN32HBSunMjL",
        "colab": {
          "base_uri": "https://localhost:8080/"
        },
        "outputId": "bc6b5cba-708d-40ee-ce4a-4791753fe818"
      },
      "execution_count": null,
      "outputs": [
        {
          "output_type": "stream",
          "name": "stdout",
          "text": [
            "Enter the kilometers covered: 5\n",
            "The total bill is Rs 55.00\n"
          ]
        }
      ]
    },
    {
      "cell_type": "code",
      "source": [
        "n = 1\n",
        "while n<=19:\n",
        "  print(n)\n",
        "  n+=2\n"
      ],
      "metadata": {
        "colab": {
          "base_uri": "https://localhost:8080/"
        },
        "id": "hoD-TRVJxgnl",
        "outputId": "11ee7738-49cb-4f03-c86e-dbd22601361c"
      },
      "execution_count": null,
      "outputs": [
        {
          "output_type": "stream",
          "name": "stdout",
          "text": [
            "1\n",
            "3\n",
            "5\n",
            "7\n",
            "9\n",
            "11\n",
            "13\n",
            "15\n",
            "17\n",
            "19\n"
          ]
        }
      ]
    },
    {
      "cell_type": "code",
      "source": [
        "''' wap take number from user and print all the factor of the number'''\n",
        "'''num = int(input(\"Enter a number: \"))\n",
        "\n",
        "print(f\"The factors of {num} are:\")\n",
        "for i in range(1, num + 1):\n",
        "    if num % i == 0:\n",
        "        print(i)'''\n",
        "num = int(input(\"Enter a number: \"))\n",
        "i = 1\n",
        "while i<=n:\n",
        "  if n%i==0:\n",
        "    print(i,end=\" \")\n",
        "  i+=1"
      ],
      "metadata": {
        "colab": {
          "base_uri": "https://localhost:8080/"
        },
        "id": "OYE1Y0xP3qjw",
        "outputId": "1af57330-c380-4d8d-e619-98fe7388a6f4"
      },
      "execution_count": null,
      "outputs": [
        {
          "output_type": "stream",
          "name": "stdout",
          "text": [
            "Enter a number: 36\n",
            "1 3 7 21 "
          ]
        }
      ]
    },
    {
      "cell_type": "code",
      "source": [
        "# Sum of given digits\n",
        "n = int(input(\"Enter the number: \"))\n",
        "temp = 0\n",
        "while n != 0:\n",
        "    r = n % 10\n",
        "    temp += r\n",
        "    n = n // 10  # Fix: added assignment\n",
        "print(\"Sum of digits =\", temp)"
      ],
      "metadata": {
        "colab": {
          "base_uri": "https://localhost:8080/"
        },
        "id": "-Pmlx_6zGhon",
        "outputId": "8d4f4697-531a-46bc-8e9b-b3ef099dfe36"
      },
      "execution_count": null,
      "outputs": [
        {
          "output_type": "stream",
          "name": "stdout",
          "text": [
            "Enter the number: 36\n",
            "Sum of digits = 9\n"
          ]
        }
      ]
    },
    {
      "cell_type": "code",
      "source": [
        "# Sum of given digits\n",
        "n = int(input(\"Enter the number: \"))\n",
        "temp = 0\n",
        "while n != 0:\n",
        "    r = n % 10\n",
        "    temp += r\n",
        "    n = n // 10  # Fix: added assignment\n",
        "print(\"Sum of digits =\", temp)"
      ],
      "metadata": {
        "colab": {
          "base_uri": "https://localhost:8080/"
        },
        "id": "Wq6m6w1OGjKD",
        "outputId": "37a43b28-14e9-471d-fa89-af888e7f134d"
      },
      "execution_count": null,
      "outputs": [
        {
          "output_type": "stream",
          "name": "stdout",
          "text": [
            "Enter the number: 36\n",
            "Sum of digits = 9\n"
          ]
        }
      ]
    },
    {
      "cell_type": "code",
      "source": [
        "# revrse the number\n",
        "n = int(input(\"Enter the number: \"))\n",
        "temp = 0\n",
        "while n != 0:\n",
        "    r = n % 10\n",
        "    temp*=10\n",
        "    temp += r\n",
        "    n = n // 10  # Fix: added assignment\n",
        "print(\"Sum of digits =\", temp)"
      ],
      "metadata": {
        "colab": {
          "base_uri": "https://localhost:8080/"
        },
        "id": "oViELL5uHFFi",
        "outputId": "960bf4cb-93d4-4e31-ae04-fafe95739dc9"
      },
      "execution_count": null,
      "outputs": [
        {
          "output_type": "stream",
          "name": "stdout",
          "text": [
            "Enter the number: 363\n",
            "Sum of digits = 363\n"
          ]
        }
      ]
    },
    {
      "cell_type": "code",
      "source": [
        "# revrse the number\n",
        "n = int(input(\"Enter the number: \"))\n",
        "n1= n\n",
        "temp = 0\n",
        "while n != 0:\n",
        "    r = n % 10\n",
        "    temp*=10\n",
        "    temp += r\n",
        "    n = n // 10\n",
        "if n1 == temp:\n",
        "  print(\"palindrom\")\n",
        "else:\n",
        "  print(\"not palindrom\")"
      ],
      "metadata": {
        "colab": {
          "base_uri": "https://localhost:8080/"
        },
        "id": "VdT2nwLXJoMw",
        "outputId": "a3f27ff9-74c2-44da-f92e-0420313da138"
      },
      "execution_count": null,
      "outputs": [
        {
          "output_type": "stream",
          "name": "stdout",
          "text": [
            "Enter the number: 36\n",
            "not palindrom\n"
          ]
        }
      ]
    },
    {
      "cell_type": "code",
      "source": [
        "'''wap which will take number from user and check number is narcissistic number'''\n",
        "n = int(input(\"Enter the number: \"))\n",
        "n1= n\n",
        "temp = 0\n",
        "while n != 0:\n",
        "    r = n % 10\n",
        "    temp*=10\n",
        "    temp += r\n",
        "    n = n // 10\n",
        "if n1 == temp:\n",
        "  print(\"palindrom\")\n",
        "else:\n",
        "  print(\"not palindrom\")"
      ],
      "metadata": {
        "id": "xu7TZ_ZrKN8G",
        "colab": {
          "base_uri": "https://localhost:8080/"
        },
        "outputId": "1747ff5d-e634-44ec-afc3-3e0412fadd6f"
      },
      "execution_count": null,
      "outputs": [
        {
          "output_type": "stream",
          "name": "stdout",
          "text": [
            "Enter the number: 36\n",
            "not palindrom\n"
          ]
        }
      ]
    },
    {
      "cell_type": "markdown",
      "source": [
        "#LIST\n",
        "CREATE,\n",
        "UPDATE,\n",
        "DELETE,\n",
        "READ\n",
        "\n",
        "\n",
        "\n",
        "\n"
      ],
      "metadata": {
        "id": "eaL1TLj4PK_a"
      }
    },
    {
      "cell_type": "code",
      "source": [
        "X = [1,2,3,4,5,6,7,8,9,10]\n",
        "print(type(X))"
      ],
      "metadata": {
        "colab": {
          "base_uri": "https://localhost:8080/"
        },
        "id": "eldudoUPOFvz",
        "outputId": "a7d57f11-64a8-4093-f154-39bd8dcac772"
      },
      "execution_count": null,
      "outputs": [
        {
          "output_type": "stream",
          "name": "stdout",
          "text": [
            "<class 'list'>\n"
          ]
        }
      ]
    },
    {
      "cell_type": "code",
      "source": [
        "fruits  = [ \"apple\", \"bannana\",\"cherry\",\"kiwi\",\"guvava\"]\n",
        "print(fruits)\n",
        "fruits[2] = 'watermalon'\n",
        "print(fruits)\n",
        "fruits.append(\"lala\")\n",
        "print(fruits)"
      ],
      "metadata": {
        "id": "wwT6AkjePqiR",
        "colab": {
          "base_uri": "https://localhost:8080/"
        },
        "outputId": "173ae63e-00a1-41a5-a588-0728e655b8f6"
      },
      "execution_count": null,
      "outputs": [
        {
          "output_type": "stream",
          "name": "stdout",
          "text": [
            "['apple', 'bannana', 'cherry', 'kiwi', 'guvava']\n",
            "['apple', 'bannana', 'watermalon', 'kiwi', 'guvava']\n",
            "['apple', 'bannana', 'watermalon', 'kiwi', 'guvava', 'lala']\n"
          ]
        }
      ]
    },
    {
      "cell_type": "code",
      "source": [
        "fruits  = [ \"apple\", \"bannana\",\"cherry\",\"kiwi\",\"guvava\"]\n",
        "fruits.insert(-3,\"watermalon\")\n",
        "print(fruits)"
      ],
      "metadata": {
        "colab": {
          "base_uri": "https://localhost:8080/"
        },
        "id": "pXl3Jw94dKfO",
        "outputId": "4ca03194-909a-45b1-d004-1f81d02ec71b"
      },
      "execution_count": null,
      "outputs": [
        {
          "output_type": "stream",
          "name": "stdout",
          "text": [
            "['apple', 'bannana', 'watermalon', 'cherry', 'kiwi', 'guvava']\n"
          ]
        }
      ]
    },
    {
      "cell_type": "code",
      "source": [
        "lst = ['one','two','three','four']\n",
        "del lst[1]\n",
        "print(lst)"
      ],
      "metadata": {
        "id": "xjE1UkC3e0o4",
        "outputId": "0ea1a48c-9443-4856-bfe0-65e43ca418bd",
        "colab": {
          "base_uri": "https://localhost:8080/"
        }
      },
      "execution_count": null,
      "outputs": [
        {
          "output_type": "stream",
          "name": "stdout",
          "text": [
            "['one', 'three', 'four']\n"
          ]
        }
      ]
    },
    {
      "cell_type": "code",
      "source": [
        "lst = ['one','two','three','four','five']\n",
        "a = lst.pop(3)\n",
        "print(lst)\n",
        "print(a)"
      ],
      "metadata": {
        "id": "mGaUekumq70T",
        "colab": {
          "base_uri": "https://localhost:8080/"
        },
        "outputId": "8d2eabd7-a194-4afd-9c39-0a96cd0b2546"
      },
      "execution_count": null,
      "outputs": [
        {
          "output_type": "stream",
          "name": "stdout",
          "text": [
            "['one', 'two', 'three', 'five']\n",
            "four\n"
          ]
        }
      ]
    },
    {
      "cell_type": "code",
      "source": [
        "lst = [1,2,3,4,5,6,7,8,9,1,0,77,89,44,'jiii']\n",
        "print(lst)\n",
        "lst.remove(\"jiii\")\n",
        "print(lst)"
      ],
      "metadata": {
        "colab": {
          "base_uri": "https://localhost:8080/"
        },
        "id": "2VQ1TSIGsSDd",
        "outputId": "20b7776c-3d44-4af0-d915-200c0f7963c6"
      },
      "execution_count": null,
      "outputs": [
        {
          "output_type": "stream",
          "name": "stdout",
          "text": [
            "[1, 2, 3, 4, 5, 6, 7, 8, 9, 1, 0, 77, 89, 44, 'jiii']\n",
            "[1, 2, 3, 4, 5, 6, 7, 8, 9, 1, 0, 77, 89, 44]\n"
          ]
        }
      ]
    },
    {
      "cell_type": "code",
      "source": [
        "lst = [1,2,[1,1],3,4,5,6]\n",
        "print(lst)\n",
        "lst.remove(1)\n",
        "print(lst)"
      ],
      "metadata": {
        "colab": {
          "base_uri": "https://localhost:8080/"
        },
        "id": "1Vlqy72Xs0y8",
        "outputId": "ef389c3e-dc84-4725-b808-c73bca7615c4"
      },
      "execution_count": null,
      "outputs": [
        {
          "output_type": "stream",
          "name": "stdout",
          "text": [
            "[1, 2, [1, 1], 3, 4, 5, 6]\n",
            "[2, [1, 1], 3, 4, 5, 6]\n"
          ]
        }
      ]
    },
    {
      "cell_type": "code",
      "source": [
        "numbers = [1,2,3,4,5,6,4,5,6]\n",
        "print(numbers.count(4))"
      ],
      "metadata": {
        "colab": {
          "base_uri": "https://localhost:8080/"
        },
        "id": "azhYNgvdtuP3",
        "outputId": "705c1c0d-6f54-4708-ef0f-755d78933fbf"
      },
      "execution_count": null,
      "outputs": [
        {
          "output_type": "stream",
          "name": "stdout",
          "text": [
            "2\n"
          ]
        }
      ]
    },
    {
      "cell_type": "code",
      "source": [
        "num = [1,2,3,4,5,6,7,8,9,0]\n",
        "num.reverse()\n",
        "print(num)"
      ],
      "metadata": {
        "colab": {
          "base_uri": "https://localhost:8080/"
        },
        "id": "0s0Kdo1Zt7iA",
        "outputId": "d3f693e0-f758-40d5-ee0e-34f3ce9b84d1"
      },
      "execution_count": null,
      "outputs": [
        {
          "output_type": "stream",
          "name": "stdout",
          "text": [
            "[0, 9, 8, 7, 6, 5, 4, 3, 2, 1]\n"
          ]
        }
      ]
    },
    {
      "cell_type": "code",
      "source": [
        "#through slicing\n",
        "num = [1,2,3,4,5,6,7,8,9,0]\n",
        "num[::-1]\n",
        "print(num)"
      ],
      "metadata": {
        "colab": {
          "base_uri": "https://localhost:8080/"
        },
        "id": "KhsPpUG4uwiY",
        "outputId": "c2deee77-7627-4293-f80f-fd9e564a2b2d"
      },
      "execution_count": null,
      "outputs": [
        {
          "output_type": "stream",
          "name": "stdout",
          "text": [
            "[1, 2, 3, 4, 5, 6, 7, 8, 9, 0]\n"
          ]
        }
      ]
    },
    {
      "cell_type": "code",
      "source": [
        "lst = [2,5,'apple',2]\n",
        "lst.index(2)"
      ],
      "metadata": {
        "colab": {
          "base_uri": "https://localhost:8080/"
        },
        "id": "q0u12N2Bu1fr",
        "outputId": "55979925-cec4-469a-b25c-0ce6581be048"
      },
      "execution_count": null,
      "outputs": [
        {
          "output_type": "execute_result",
          "data": {
            "text/plain": [
              "0"
            ]
          },
          "metadata": {},
          "execution_count": 99
        }
      ]
    },
    {
      "cell_type": "code",
      "source": [
        "num = [11,12,13,14,15,16,17,20]\n",
        "for i in range(len(num)):\n",
        "  print(num)"
      ],
      "metadata": {
        "colab": {
          "base_uri": "https://localhost:8080/"
        },
        "id": "-YGqKRsZvRGN",
        "outputId": "5d297ead-21bd-4820-f220-e78d54854029"
      },
      "execution_count": null,
      "outputs": [
        {
          "output_type": "stream",
          "name": "stdout",
          "text": [
            "[11, 12, 13, 14, 15, 16, 17, 20]\n",
            "[11, 12, 13, 14, 15, 16, 17, 20]\n",
            "[11, 12, 13, 14, 15, 16, 17, 20]\n",
            "[11, 12, 13, 14, 15, 16, 17, 20]\n",
            "[11, 12, 13, 14, 15, 16, 17, 20]\n",
            "[11, 12, 13, 14, 15, 16, 17, 20]\n",
            "[11, 12, 13, 14, 15, 16, 17, 20]\n",
            "[11, 12, 13, 14, 15, 16, 17, 20]\n"
          ]
        }
      ]
    },
    {
      "cell_type": "code",
      "source": [
        "\n",
        "lst = [1,2,3,4,5,6,7,8,9,10]\n",
        "even = odd = 0\n",
        "for i in range(len(lst)):\n",
        "  if i%2==0:\n",
        "    print('number is even',i)\n",
        "  else:\n",
        "    print('odd number',i)"
      ],
      "metadata": {
        "colab": {
          "base_uri": "https://localhost:8080/"
        },
        "id": "WG4BjiBXwfBa",
        "outputId": "a3f96d48-6c01-4504-baf9-a9583f596179"
      },
      "execution_count": null,
      "outputs": [
        {
          "output_type": "stream",
          "name": "stdout",
          "text": [
            "number is even 0\n",
            "odd number 1\n",
            "number is even 2\n",
            "odd number 3\n",
            "number is even 4\n",
            "odd number 5\n",
            "number is even 6\n",
            "odd number 7\n",
            "number is even 8\n",
            "odd number 9\n"
          ]
        }
      ]
    },
    {
      "cell_type": "code",
      "source": [
        "#count of even number in given list\n",
        "lst = [1,2,3,4,5,6,7,8,9,10]\n",
        "even = odd = 0\n",
        "for i in range(len(lst)):\n",
        "  if lst[i]%2==0:\n",
        "    even+=1\n",
        "  else:\n",
        "    odd+=1\n",
        "print(even,odd)"
      ],
      "metadata": {
        "colab": {
          "base_uri": "https://localhost:8080/"
        },
        "id": "PaHzoiuixF1U",
        "outputId": "57c7297a-d6ab-4dae-c412-0344e2ff43c7"
      },
      "execution_count": null,
      "outputs": [
        {
          "output_type": "stream",
          "name": "stdout",
          "text": [
            "5 5\n"
          ]
        }
      ]
    },
    {
      "cell_type": "code",
      "source": [
        "#wap which will take list as a input form user and +5 in even number and -3 in odd number\n",
        "lst = [1,2,3,4,5,6,7,8,9,10]\n",
        "print(lst)\n",
        "even = odd = 0\n",
        "for i in range(len(lst)):\n",
        "  if lst[i]%2==0:\n",
        "    lst[i]+=5\n",
        "  else:\n",
        "    lst[i]-=3\n",
        "print(lst)"
      ],
      "metadata": {
        "colab": {
          "base_uri": "https://localhost:8080/"
        },
        "id": "_VA28n9ixsMX",
        "outputId": "fca0f4d8-6624-41ac-be0e-f9d9c2bceaef"
      },
      "execution_count": null,
      "outputs": [
        {
          "output_type": "stream",
          "name": "stdout",
          "text": [
            "[1, 2, 3, 4, 5, 6, 7, 8, 9, 10]\n",
            "[-2, 7, 0, 9, 2, 11, 4, 13, 6, 15]\n"
          ]
        }
      ]
    },
    {
      "cell_type": "code",
      "source": [
        "#wap which will take list as a input form user and +5 in even number and -3 in odd number\n",
        "user_input = input(\"Enter the list of numbers separated by space: \")\n",
        "lst = list(map(int, user_input.split()))\n",
        "\n",
        "# Display the original list\n",
        "print(\"Original list:\", lst)\n",
        "\n",
        "# Process the list: +5 to even numbers, -3 to odd numbers\n",
        "for i in range(len(lst)):\n",
        "    if lst[i] % 2 == 0:\n",
        "        lst[i] += 5\n",
        "    else:\n",
        "        lst[i] -= 3\n",
        "\n",
        "# Display the modified list\n",
        "print(\"Modified list:\", lst)\n"
      ],
      "metadata": {
        "colab": {
          "base_uri": "https://localhost:8080/"
        },
        "id": "PD0K6UdZyMwQ",
        "outputId": "e870eb42-6694-4610-de08-287ca82ad497"
      },
      "execution_count": null,
      "outputs": [
        {
          "output_type": "stream",
          "name": "stdout",
          "text": [
            "Enter the list of numbers separated by space: 36\n",
            "Original list: [36]\n",
            "Modified list: [41]\n"
          ]
        }
      ]
    },
    {
      "cell_type": "code",
      "metadata": {
        "colab": {
          "base_uri": "https://localhost:8080/"
        },
        "id": "08d31ab6",
        "outputId": "b18d1973-eab2-4981-c9e2-54c786beeeae"
      },
      "source": [
        "lst = [3,5,7,9,2,8,11,15,12,14]\n",
        "#output = [5,3,9,7,8,2,15,11,14,12]\n",
        "for i in range(0, len(lst)-1,2):\n",
        "  lst[i],lst[i+1] = lst[i+1] , lst[i]\n",
        "print(lst)"
      ],
      "execution_count": null,
      "outputs": [
        {
          "output_type": "stream",
          "name": "stdout",
          "text": [
            "[5, 3, 9, 7, 8, 2, 15, 11, 14, 12]\n"
          ]
        }
      ]
    },
    {
      "cell_type": "code",
      "source": [
        "#wap which print the largest element of the list\n",
        "lst = [3,5,7,9,2,8,11,15,12,14]\n",
        "print(max(lst))"
      ],
      "metadata": {
        "colab": {
          "base_uri": "https://localhost:8080/"
        },
        "id": "5pda1dN4UFij",
        "outputId": "7f3f8592-f0d6-481f-b7b1-a34db7248a1b"
      },
      "execution_count": null,
      "outputs": [
        {
          "output_type": "stream",
          "name": "stdout",
          "text": [
            "15\n"
          ]
        }
      ]
    },
    {
      "cell_type": "code",
      "source": [
        "##wap which print the largest element of the list\n",
        "lst = [3,5,7,9,2,8,11,15,12,14]\n",
        "temp = lst[0]#this is the index number\n",
        "for i in range(len(lst)):\n",
        "  if lst[i]>temp:\n",
        "    temp=lst[i]\n",
        "print(temp)"
      ],
      "metadata": {
        "colab": {
          "base_uri": "https://localhost:8080/"
        },
        "id": "JIZvxyY3XZ4m",
        "outputId": "4bff0136-6dc1-4c5b-d475-b736f536682c"
      },
      "execution_count": null,
      "outputs": [
        {
          "output_type": "stream",
          "name": "stdout",
          "text": [
            "15\n"
          ]
        }
      ]
    },
    {
      "cell_type": "code",
      "source": [
        "lst = [3,5,7,9,2,8,11,15,12,14]\n",
        "max1 = lst[1]\n",
        "max2 = lst[0]\n",
        "for i in range(2,len(lst)):\n",
        "  if lst[i]>max1:\n",
        "    max2=max1\n",
        "    max1=lst[i]\n",
        "  elif lst[i]>max2:\n",
        "    max2=lst[i]\n",
        "print(\"second largest number is\",max2)"
      ],
      "metadata": {
        "colab": {
          "base_uri": "https://localhost:8080/"
        },
        "id": "GV0PAUmrYnEb",
        "outputId": "9a3147bd-cda9-4273-f975-e7017cd82502"
      },
      "execution_count": null,
      "outputs": [
        {
          "output_type": "stream",
          "name": "stdout",
          "text": [
            "second largest number is 14\n"
          ]
        }
      ]
    },
    {
      "cell_type": "code",
      "source": [
        "lst = [ 25,3,2,20,8,15,6,12,10]\n",
        "lst.reverse()\n",
        "lst1 = [lst[0]]\n",
        "temp =lst[0]\n",
        "for i in lst:\n",
        "  if i>temp:\n",
        "    temp=i\n",
        "    lst1.append(temp)\n",
        "print(lst1)\n",
        "lst1.reverse()\n",
        "print(lst1)"
      ],
      "metadata": {
        "colab": {
          "base_uri": "https://localhost:8080/"
        },
        "id": "tqobUz6ga44B",
        "outputId": "642cce12-b30d-452e-bf9d-ff9c4b4015e1"
      },
      "execution_count": null,
      "outputs": [
        {
          "output_type": "stream",
          "name": "stdout",
          "text": [
            "[10, 12, 15, 20, 25]\n",
            "[25, 20, 15, 12, 10]\n"
          ]
        }
      ]
    },
    {
      "cell_type": "code",
      "source": [
        "lst = [3,5,7,2,8,9]\n",
        "lst1 = []\n",
        "for i in lst:\n",
        "  lst1.append(i**2)\n",
        "print(lst1)"
      ],
      "metadata": {
        "colab": {
          "base_uri": "https://localhost:8080/"
        },
        "id": "ryKs2zyAhWPs",
        "outputId": "39eb6401-2c02-4bf4-e64f-77b3401e92cb"
      },
      "execution_count": null,
      "outputs": [
        {
          "output_type": "stream",
          "name": "stdout",
          "text": [
            "[9, 25, 49, 4, 64, 81]\n"
          ]
        }
      ]
    },
    {
      "cell_type": "code",
      "source": [
        "#List comprihansion\n",
        "lst = [3,5,7,2,8,9]\n",
        "lst1 = [i**2 for i in lst]\n",
        "print(lst1)"
      ],
      "metadata": {
        "colab": {
          "base_uri": "https://localhost:8080/"
        },
        "id": "czUFZ04cmsiw",
        "outputId": "b140fdc8-9055-4c56-cdf9-fa5cb4f2b42d"
      },
      "execution_count": null,
      "outputs": [
        {
          "output_type": "stream",
          "name": "stdout",
          "text": [
            "[9, 25, 49, 4, 64, 81]\n"
          ]
        }
      ]
    },
    {
      "cell_type": "code",
      "source": [
        "lst  = [3,5,-7,-8,12,-78,-89,78,-77]\n",
        "lst1 = [i for i in lst if i >0]\n",
        "lst2 = [i for i in lst if i <0]\n",
        "print(lst1,lst2)"
      ],
      "metadata": {
        "colab": {
          "base_uri": "https://localhost:8080/"
        },
        "id": "fxvN7r4Wm-VC",
        "outputId": "4ed09a9c-7d09-4c60-884e-0805338599f5"
      },
      "execution_count": null,
      "outputs": [
        {
          "output_type": "stream",
          "name": "stdout",
          "text": [
            "[3, 5, 12, 78] [-7, -8, -78, -89, -77]\n"
          ]
        }
      ]
    },
    {
      "cell_type": "code",
      "source": [
        "lst = [1,2,3,4,5,6,7,8,9,10]\n",
        "lst1 = [i for i in lst if i%2 == 0]\n",
        "print(\"even number = \",lst1)\n",
        "lst2 = [i for i in lst if i%2 != 0]\n",
        "print(\"odd number = \",lst2)"
      ],
      "metadata": {
        "colab": {
          "base_uri": "https://localhost:8080/"
        },
        "id": "Y5svsP0SoT9k",
        "outputId": "6d66492b-a1a8-4e0c-e698-854f8833a567"
      },
      "execution_count": null,
      "outputs": [
        {
          "output_type": "stream",
          "name": "stdout",
          "text": [
            "even number =  [2, 4, 6, 8, 10]\n",
            "odd number =  [1, 3, 5, 7, 9]\n"
          ]
        }
      ]
    },
    {
      "cell_type": "markdown",
      "source": [
        "sort function"
      ],
      "metadata": {
        "id": "yJc0RxGN0zf8"
      }
    },
    {
      "cell_type": "code",
      "source": [
        "lst = [1,2,3,4,5,6,7,8,9,10]\n",
        "lst.sort(reverse = True)\n",
        "print(lst)"
      ],
      "metadata": {
        "colab": {
          "base_uri": "https://localhost:8080/"
        },
        "id": "ctqwog9B02iw",
        "outputId": "5083cea2-dae4-4d43-82d6-a3b2ace1eed0"
      },
      "execution_count": null,
      "outputs": [
        {
          "output_type": "stream",
          "name": "stdout",
          "text": [
            "[10, 9, 8, 7, 6, 5, 4, 3, 2, 1]\n"
          ]
        }
      ]
    },
    {
      "cell_type": "code",
      "source": [
        "lst = [1,2,3,4,5,8,7,8,9,10]\n",
        "x = sorted(lst)\n",
        "print(x)\n",
        "print(lst)"
      ],
      "metadata": {
        "colab": {
          "base_uri": "https://localhost:8080/"
        },
        "id": "kK4eIn-11WWi",
        "outputId": "db8b34d1-1847-4532-aca8-cc33834d84a3"
      },
      "execution_count": null,
      "outputs": [
        {
          "output_type": "stream",
          "name": "stdout",
          "text": [
            "[1, 2, 3, 4, 5, 7, 8, 8, 9, 10]\n",
            "[1, 2, 3, 4, 5, 8, 7, 8, 9, 10]\n"
          ]
        }
      ]
    },
    {
      "cell_type": "code",
      "source": [
        "lst = [[3,5,7,9],[8,2,5,9],[7,3,5,8],[8,3,2]]\n",
        "op_lst = []\n",
        "for i in lst:\n",
        "  op_lst.append(max(i))\n",
        "print(op_lst)"
      ],
      "metadata": {
        "id": "yfcKWdyr2gjr",
        "colab": {
          "base_uri": "https://localhost:8080/"
        },
        "outputId": "e4aa3dd8-4388-421a-8a0f-ffbe3b20c483"
      },
      "execution_count": null,
      "outputs": [
        {
          "output_type": "stream",
          "name": "stdout",
          "text": [
            "[9, 9, 8, 8]\n"
          ]
        }
      ]
    },
    {
      "cell_type": "code",
      "source": [
        "lst = [[3,5,7,9],[8,2,5,9],[7,3,5,8],[8,3,2]]\n",
        "odd_sums = []\n",
        "for i in lst:\n",
        "  sum = 0\n",
        "  for number in i:\n",
        "    if number % 2 != 0:\n",
        "      sum += number\n",
        "  odd_sums.append(sum)\n",
        "\n",
        "print(odd_sums)"
      ],
      "metadata": {
        "colab": {
          "base_uri": "https://localhost:8080/"
        },
        "id": "_hl7uzsA3cQZ",
        "outputId": "60f0f210-99a1-4ddb-98bd-a73eb076addd"
      },
      "execution_count": null,
      "outputs": [
        {
          "output_type": "stream",
          "name": "stdout",
          "text": [
            "[24, 14, 15, 3]\n"
          ]
        }
      ]
    },
    {
      "cell_type": "code",
      "source": [
        "lst = [[1,2,3,4],[5,6,7,8],[9,10,11,12,13],[14,15,16,17]]\n",
        "for i in range(0,len(lst)-1,2):\n",
        "  for j in range(0,len(lst[i])-1,2):\n",
        "    lst[i][j],lst[i+1][j]= lst[i+1][j],lst[i][j]\n",
        "print(lst)"
      ],
      "metadata": {
        "id": "dxeOYH594YP9",
        "colab": {
          "base_uri": "https://localhost:8080/"
        },
        "outputId": "a631579c-1fe1-411b-bb32-dff0180598ad"
      },
      "execution_count": null,
      "outputs": [
        {
          "output_type": "stream",
          "name": "stdout",
          "text": [
            "[[5, 2, 7, 4], [1, 6, 3, 8], [14, 10, 16, 12, 13], [9, 15, 11, 17]]\n"
          ]
        }
      ]
    },
    {
      "cell_type": "code",
      "source": [
        "tpl = ()\n",
        "tpl1 = tuple()\n",
        "tpl2 = ('jai hoo',1,2,3,4)\n",
        "print(tpl,tpl1,tpl2)"
      ],
      "metadata": {
        "colab": {
          "base_uri": "https://localhost:8080/"
        },
        "id": "lmgeZSS0d9mH",
        "outputId": "577e4779-26f1-4d5b-fabd-1c324d3d8c8a"
      },
      "execution_count": null,
      "outputs": [
        {
          "output_type": "stream",
          "name": "stdout",
          "text": [
            "() () ('jai hoo', 1, 2, 3, 4)\n"
          ]
        }
      ]
    },
    {
      "cell_type": "code",
      "source": [
        "tpl = (1,2,3,4,5,66,7,8,9)\n",
        "print(tpl)"
      ],
      "metadata": {
        "colab": {
          "base_uri": "https://localhost:8080/"
        },
        "id": "aymEvE6kefnM",
        "outputId": "88696335-0086-4f14-fbe5-cfe5c934b36c"
      },
      "execution_count": null,
      "outputs": [
        {
          "output_type": "stream",
          "name": "stdout",
          "text": [
            "(1, 2, 3, 4, 5, 66, 7, 8, 9)\n"
          ]
        }
      ]
    },
    {
      "cell_type": "code",
      "source": [
        "tpl = (1,2,3,4,5,66,7,8,9)\n",
        "print(id(tpl))\n",
        "tpl+=(21,22,23,25)\n",
        "print(id(tpl))"
      ],
      "metadata": {
        "colab": {
          "base_uri": "https://localhost:8080/"
        },
        "id": "qgpd4z4if6b0",
        "outputId": "f0c55dda-4a6d-446d-faa4-0cc0af677b77"
      },
      "execution_count": null,
      "outputs": [
        {
          "output_type": "stream",
          "name": "stdout",
          "text": [
            "132035458952080\n",
            "132035421379248\n"
          ]
        }
      ]
    },
    {
      "cell_type": "code",
      "source": [
        "print(dir(tpl))"
      ],
      "metadata": {
        "colab": {
          "base_uri": "https://localhost:8080/"
        },
        "id": "i9PAKDO_gBqw",
        "outputId": "95759d6e-0df5-4328-c4e0-ca6257d01a08"
      },
      "execution_count": null,
      "outputs": [
        {
          "output_type": "stream",
          "name": "stdout",
          "text": [
            "['__add__', '__class__', '__class_getitem__', '__contains__', '__delattr__', '__dir__', '__doc__', '__eq__', '__format__', '__ge__', '__getattribute__', '__getitem__', '__getnewargs__', '__getstate__', '__gt__', '__hash__', '__init__', '__init_subclass__', '__iter__', '__le__', '__len__', '__lt__', '__mul__', '__ne__', '__new__', '__reduce__', '__reduce_ex__', '__repr__', '__rmul__', '__setattr__', '__sizeof__', '__str__', '__subclasshook__', 'count', 'index']\n"
          ]
        }
      ]
    },
    {
      "cell_type": "code",
      "source": [
        "tpl=[21,22,23,25]\n",
        "print(tuple(tpl))"
      ],
      "metadata": {
        "colab": {
          "base_uri": "https://localhost:8080/"
        },
        "id": "KkIYrd29hA4b",
        "outputId": "7c595241-3954-4d66-caa5-93ce05e7166e"
      },
      "execution_count": null,
      "outputs": [
        {
          "output_type": "stream",
          "name": "stdout",
          "text": [
            "(21, 22, 23, 25)\n"
          ]
        }
      ]
    },
    {
      "cell_type": "code",
      "source": [
        "x = \"let's learn python\"\n",
        "print(x[: : -3])\n",
        "print(x[7 :: 4])\n",
        "print(x[10 :])\n",
        "print(x[: : 3])\n",
        "print(x[-3: -10 :-5])\n",
        "print(x[-2:])"
      ],
      "metadata": {
        "colab": {
          "base_uri": "https://localhost:8080/"
        },
        "id": "WWVqL-i0htmj",
        "outputId": "34e5a0e7-c535-4ab6-f3b1-d876dd71c6a7"
      },
      "execution_count": null,
      "outputs": [
        {
          "output_type": "stream",
          "name": "stdout",
          "text": [
            "nt a t\n",
            "e h\n",
            "n python\n",
            "l'lrph\n",
            "hn\n",
            "on\n"
          ]
        }
      ]
    },
    {
      "cell_type": "code",
      "source": [
        "print(\"o\" in \"hello world\")"
      ],
      "metadata": {
        "colab": {
          "base_uri": "https://localhost:8080/"
        },
        "id": "HDlMZgJwjLff",
        "outputId": "1102cc29-0a43-4b00-9226-8c171ab6f45f"
      },
      "execution_count": null,
      "outputs": [
        {
          "output_type": "stream",
          "name": "stdout",
          "text": [
            "True\n"
          ]
        }
      ]
    },
    {
      "cell_type": "code",
      "source": [
        "x = \"PYHTON\"\n",
        "y = x.lower()\n",
        "print(x)\n",
        "print(y)"
      ],
      "metadata": {
        "colab": {
          "base_uri": "https://localhost:8080/"
        },
        "id": "pIKnFuXImpF7",
        "outputId": "5e499c5d-c1b8-4310-9960-c6b1feb985bd"
      },
      "execution_count": null,
      "outputs": [
        {
          "output_type": "stream",
          "name": "stdout",
          "text": [
            "PYHTON\n",
            "pyhton\n"
          ]
        }
      ]
    },
    {
      "cell_type": "code",
      "source": [
        "x = \"python\"\n",
        "y = x.upper()\n",
        "print(x)\n",
        "print(y)"
      ],
      "metadata": {
        "colab": {
          "base_uri": "https://localhost:8080/"
        },
        "id": "_YqVa07BmzfE",
        "outputId": "043df31c-67fa-4b58-cd3c-b9d5500d71c5"
      },
      "execution_count": null,
      "outputs": [
        {
          "output_type": "stream",
          "name": "stdout",
          "text": [
            "python\n",
            "PYTHON\n"
          ]
        }
      ]
    },
    {
      "cell_type": "code",
      "source": [
        "str = \"hello user how are you\"\n",
        "lst= str.split()\n",
        "print(lst)"
      ],
      "metadata": {
        "colab": {
          "base_uri": "https://localhost:8080/"
        },
        "id": "mXD4ZGsynXVI",
        "outputId": "fbceb7c4-c0d4-4943-a22e-b97c7dcb77c6"
      },
      "execution_count": null,
      "outputs": [
        {
          "output_type": "stream",
          "name": "stdout",
          "text": [
            "['hello', 'user', 'how', 'are', 'you']\n"
          ]
        }
      ]
    },
    {
      "cell_type": "code",
      "source": [
        "str = \"0001-0003-0008\"\n",
        "lst= str.split(sep='-')\n",
        "print(lst)"
      ],
      "metadata": {
        "colab": {
          "base_uri": "https://localhost:8080/"
        },
        "id": "BhelbYA6oLm5",
        "outputId": "199a8614-1d3a-4b98-93ba-26f9242c26d1"
      },
      "execution_count": null,
      "outputs": [
        {
          "output_type": "stream",
          "name": "stdout",
          "text": [
            "['0001', '0003', '0008']\n"
          ]
        }
      ]
    },
    {
      "cell_type": "code",
      "source": [
        "lst = ['0001','0002','0003']\n",
        "str = \" \".join(lst)\n",
        "print(str)"
      ],
      "metadata": {
        "colab": {
          "base_uri": "https://localhost:8080/"
        },
        "id": "LWDguMIVopUn",
        "outputId": "857bfd8b-6ef2-4555-f97c-c95935810ea4"
      },
      "execution_count": null,
      "outputs": [
        {
          "output_type": "stream",
          "name": "stdout",
          "text": [
            "0001 0002 0003\n"
          ]
        }
      ]
    },
    {
      "cell_type": "code",
      "source": [
        "date_str = input(\"enter the date (dd/mm/yyyy): \")\n",
        "print(date_str)\n",
        "new_date = date_str.split(sep = \"/\")\n",
        "day = new_date[0]\n",
        "month = new_date[1]\n",
        "year  = new_date[2]\n",
        "print(\"day\",day)\n",
        "print(\"month\",month)\n",
        "print(\"year\",year)"
      ],
      "metadata": {
        "colab": {
          "base_uri": "https://localhost:8080/"
        },
        "id": "RGGuv9MUpZFv",
        "outputId": "5d5e399a-d63d-48ce-8f8c-a08999f35251"
      },
      "execution_count": null,
      "outputs": [
        {
          "output_type": "stream",
          "name": "stdout",
          "text": [
            "enter the date (dd/mm/yyyy): 3/5/2025\n",
            "3/5/2025\n",
            "day 3\n",
            "month 5\n",
            "year 2025\n"
          ]
        }
      ]
    },
    {
      "cell_type": "code",
      "source": [
        "str1 = \"hello everyone let's learn python\"\n",
        "lst = str1.split()\n",
        "word = \"\"\n",
        "for i in range(len(lst)):\n",
        "  if len(lst[i])>len(word):\n",
        "    word = lst[i]\n",
        "print(word,len(word))"
      ],
      "metadata": {
        "id": "PoBQwkofqGet",
        "colab": {
          "base_uri": "https://localhost:8080/"
        },
        "outputId": "6b7d99a9-4c0e-4bae-cb21-d41fad1b8de1"
      },
      "execution_count": null,
      "outputs": [
        {
          "output_type": "stream",
          "name": "stdout",
          "text": [
            "everyone 8\n"
          ]
        }
      ]
    },
    {
      "cell_type": "code",
      "source": [
        "str = input(\"enter the string = \")\n",
        "if str == str[: : -1]:\n",
        "  print(\"palindrom\")\n",
        "else:\n",
        "  print(\"not palindrom\")"
      ],
      "metadata": {
        "colab": {
          "base_uri": "https://localhost:8080/"
        },
        "id": "5tqJTKBsuNsC",
        "outputId": "3634bb9a-1879-415c-fd0b-0e34c737a12d"
      },
      "execution_count": null,
      "outputs": [
        {
          "output_type": "stream",
          "name": "stdout",
          "text": [
            "enter the string = papa\n",
            "not palindrom\n"
          ]
        }
      ]
    },
    {
      "cell_type": "code",
      "source": [
        "text = \"hello ,everyone. let's, learn. python\"\n",
        "text = text.replace(\".\",\",\")\n",
        "text = text.replace(\",\",\"#\")\n",
        "text = text.replace(\"#\",\".\")\n",
        "print(text)"
      ],
      "metadata": {
        "colab": {
          "base_uri": "https://localhost:8080/"
        },
        "id": "fu2IzYVIugbM",
        "outputId": "379af1ec-1cd0-4fdc-91a4-2544e4c71866"
      },
      "execution_count": null,
      "outputs": [
        {
          "output_type": "stream",
          "name": "stdout",
          "text": [
            "hello .everyone. let's. learn. python\n"
          ]
        }
      ]
    },
    {
      "cell_type": "markdown",
      "source": [
        "set yeh mutable hota hai , set apne andar imuteable veriable store krta hai, set unorder hota , set{} use krte hai , set muteable isliye kyunki hum usmein value add kr skte hai aur existing value ko delete kr skte hai\n"
      ],
      "metadata": {
        "id": "78jvLWWcxzmX"
      }
    },
    {
      "cell_type": "code",
      "source": [
        "st ={}\n",
        "st = set()\n",
        "st = {}"
      ],
      "metadata": {
        "id": "puJ9Ty98yqiW"
      },
      "execution_count": null,
      "outputs": []
    },
    {
      "cell_type": "code",
      "source": [
        "s = set()\n",
        "print(type(s))"
      ],
      "metadata": {
        "colab": {
          "base_uri": "https://localhost:8080/"
        },
        "id": "hE_Hq8Rk9Z4I",
        "outputId": "3c004e69-4295-4b35-c740-3c530a37648e"
      },
      "execution_count": null,
      "outputs": [
        {
          "output_type": "stream",
          "name": "stdout",
          "text": [
            "<class 'set'>\n"
          ]
        }
      ]
    },
    {
      "cell_type": "code",
      "source": [
        "#without element ye {} dictonaryu create krega aur ek bhi value dedo toh yeh set ban jata hai\n",
        "st = {}\n",
        "print(type(st))"
      ],
      "metadata": {
        "colab": {
          "base_uri": "https://localhost:8080/"
        },
        "id": "KwrKorT99dxl",
        "outputId": "aa7d7ea5-170b-479e-d24b-4336e98cef67"
      },
      "execution_count": null,
      "outputs": [
        {
          "output_type": "stream",
          "name": "stdout",
          "text": [
            "<class 'dict'>\n"
          ]
        }
      ]
    },
    {
      "cell_type": "code",
      "source": [
        "s = {1,2}\n",
        "s.add(3)\n",
        "print(s)"
      ],
      "metadata": {
        "colab": {
          "base_uri": "https://localhost:8080/"
        },
        "id": "82KURKwz9kYC",
        "outputId": "e9d895f8-b0ca-4f93-a09d-4492fdd136a2"
      },
      "execution_count": null,
      "outputs": [
        {
          "output_type": "stream",
          "name": "stdout",
          "text": [
            "{1, 2, 3}\n"
          ]
        }
      ]
    },
    {
      "cell_type": "code",
      "source": [
        "st = {1,2,3}\n",
        "st.update([1,2,3,4,5,6])\n",
        "print(st)"
      ],
      "metadata": {
        "colab": {
          "base_uri": "https://localhost:8080/"
        },
        "id": "gV602CfE-BDl",
        "outputId": "4e39f49a-6b97-4b8e-e42f-e94a423d8bcd"
      },
      "execution_count": null,
      "outputs": [
        {
          "output_type": "stream",
          "name": "stdout",
          "text": [
            "{1, 2, 3, 4, 5, 6}\n"
          ]
        }
      ]
    },
    {
      "cell_type": "code",
      "source": [
        "st = {1,2,3}\n",
        "st.remove(3)\n",
        "print(st)"
      ],
      "metadata": {
        "colab": {
          "base_uri": "https://localhost:8080/"
        },
        "id": "Z41Np1GN-VHH",
        "outputId": "9bd2834a-b1cb-4f75-911e-707816f6d332"
      },
      "execution_count": null,
      "outputs": [
        {
          "output_type": "stream",
          "name": "stdout",
          "text": [
            "{1, 2}\n"
          ]
        }
      ]
    },
    {
      "cell_type": "code",
      "source": [
        "st = {1,2,3}\n",
        "a=st.pop()\n",
        "print(a)\n",
        "print(st)"
      ],
      "metadata": {
        "colab": {
          "base_uri": "https://localhost:8080/"
        },
        "id": "e-j9Fo10-v9B",
        "outputId": "ebe1f35d-ac2d-43e2-e63f-695f49e5a329"
      },
      "execution_count": null,
      "outputs": [
        {
          "output_type": "stream",
          "name": "stdout",
          "text": [
            "1\n",
            "{2, 3}\n"
          ]
        }
      ]
    },
    {
      "cell_type": "code",
      "source": [
        "st = {1,2,3}\n",
        "print(s)\n",
        "s.clear()\n",
        "print(S)"
      ],
      "metadata": {
        "colab": {
          "base_uri": "https://localhost:8080/",
          "height": 193
        },
        "id": "tsoISjLD_tiw",
        "outputId": "63f26353-9285-42de-b5e6-908deb26a504"
      },
      "execution_count": null,
      "outputs": [
        {
          "output_type": "stream",
          "name": "stdout",
          "text": [
            "{1, 2, 3}\n"
          ]
        },
        {
          "output_type": "error",
          "ename": "NameError",
          "evalue": "name 'S' is not defined",
          "traceback": [
            "\u001b[0;31m---------------------------------------------------------------------------\u001b[0m",
            "\u001b[0;31mNameError\u001b[0m                                 Traceback (most recent call last)",
            "\u001b[0;32m/tmp/ipython-input-58-4173630383.py\u001b[0m in \u001b[0;36m<cell line: 0>\u001b[0;34m()\u001b[0m\n\u001b[1;32m      2\u001b[0m \u001b[0mprint\u001b[0m\u001b[0;34m(\u001b[0m\u001b[0ms\u001b[0m\u001b[0;34m)\u001b[0m\u001b[0;34m\u001b[0m\u001b[0;34m\u001b[0m\u001b[0m\n\u001b[1;32m      3\u001b[0m \u001b[0ms\u001b[0m\u001b[0;34m.\u001b[0m\u001b[0mclear\u001b[0m\u001b[0;34m(\u001b[0m\u001b[0;34m)\u001b[0m\u001b[0;34m\u001b[0m\u001b[0;34m\u001b[0m\u001b[0m\n\u001b[0;32m----> 4\u001b[0;31m \u001b[0mprint\u001b[0m\u001b[0;34m(\u001b[0m\u001b[0mS\u001b[0m\u001b[0;34m)\u001b[0m\u001b[0;34m\u001b[0m\u001b[0;34m\u001b[0m\u001b[0m\n\u001b[0m",
            "\u001b[0;31mNameError\u001b[0m: name 'S' is not defined"
          ]
        }
      ]
    },
    {
      "cell_type": "code",
      "metadata": {
        "colab": {
          "base_uri": "https://localhost:8080/"
        },
        "id": "b5f3f179",
        "outputId": "1c66f4ab-5668-4a40-87cd-2db2527b1b1b"
      },
      "source": [
        "# wap which will take string as input from user and count number of unique character  in that string\n",
        "input_string = input(\"Enter a string: \")\n",
        "unique_characters = set(input_string)\n",
        "count = len(unique_characters)\n",
        "print(f\"The number of unique characters in the string is: {count}\")"
      ],
      "execution_count": null,
      "outputs": [
        {
          "output_type": "stream",
          "name": "stdout",
          "text": [
            "Enter a string: hello my name is robin\n",
            "The number of unique characters in the string is: 13\n"
          ]
        }
      ]
    },
    {
      "cell_type": "code",
      "source": [
        "str1 = \"hello my name is robin my is \"\n",
        "lst = str1.split()\n",
        "str2=\"\"\n",
        "for i in lst:\n",
        "  if i not in str2:\n",
        "    str2 =str2+\" \"+i\n",
        "print(str2)"
      ],
      "metadata": {
        "colab": {
          "base_uri": "https://localhost:8080/"
        },
        "id": "Q1vn5poUD6c7",
        "outputId": "12d1eae2-e7b5-4ae9-fbaa-9a941d96d9b4"
      },
      "execution_count": null,
      "outputs": [
        {
          "output_type": "stream",
          "name": "stdout",
          "text": [
            " hello my name is robin\n"
          ]
        }
      ]
    },
    {
      "cell_type": "code",
      "source": [
        "set1 = {1,2,3,4,5,6,7}\n",
        "set2 = {3,4,5,8,7,9,10}\n",
        "a = set1 | set2#| this is for union\n",
        "print(a)"
      ],
      "metadata": {
        "id": "h16TM7H8EWvW",
        "colab": {
          "base_uri": "https://localhost:8080/"
        },
        "outputId": "d3545a67-a9a2-46dc-ea80-5c869261c8f3"
      },
      "execution_count": null,
      "outputs": [
        {
          "output_type": "stream",
          "name": "stdout",
          "text": [
            "{1, 2, 3, 4, 5, 6, 7, 8, 9, 10}\n"
          ]
        }
      ]
    },
    {
      "cell_type": "code",
      "source": [
        "set1 = {1,2,3,4,5,6,7}\n",
        "set2 = {3,4,5,8,7,9,10}\n",
        "a = set1.union(set2)\n",
        "print(a)"
      ],
      "metadata": {
        "colab": {
          "base_uri": "https://localhost:8080/"
        },
        "id": "OaRa7EanmuVE",
        "outputId": "4e4d5c13-1e29-4d66-a7fb-dedb97b06b48"
      },
      "execution_count": null,
      "outputs": [
        {
          "output_type": "stream",
          "name": "stdout",
          "text": [
            "{1, 2, 3, 4, 5, 6, 7, 8, 9, 10}\n"
          ]
        }
      ]
    },
    {
      "cell_type": "code",
      "source": [
        "set1 = {1,2,3,4,5,6,7}\n",
        "set2 = {3,4,5,8,7,9,10}\n",
        "a = set1.intersection(set2)\n",
        "print(a)"
      ],
      "metadata": {
        "colab": {
          "base_uri": "https://localhost:8080/"
        },
        "id": "oaDrT0E_nL_z",
        "outputId": "78fdbc82-22a2-47c7-91be-e611a1dba0c3"
      },
      "execution_count": null,
      "outputs": [
        {
          "output_type": "stream",
          "name": "stdout",
          "text": [
            "{3, 4, 5, 7}\n"
          ]
        }
      ]
    },
    {
      "cell_type": "code",
      "source": [
        "set1 = {1,2,3,4,5,6,7}\n",
        "set2 = {3,4,5,8,7,9,10}\n",
        "a = set1 & set2 #& intersection ke liye use hota hai\n",
        "print(a)"
      ],
      "metadata": {
        "colab": {
          "base_uri": "https://localhost:8080/"
        },
        "id": "-oTkEUNpnUJQ",
        "outputId": "71710d83-09c9-4443-a833-8f64133e855d"
      },
      "execution_count": null,
      "outputs": [
        {
          "output_type": "stream",
          "name": "stdout",
          "text": [
            "{3, 4, 5, 7}\n"
          ]
        }
      ]
    },
    {
      "cell_type": "code",
      "source": [
        "set1 = {1,2,3,4,5,6,7}\n",
        "set2 = {3,4,5,8,7,9,10}\n",
        "a = set1 - set2 # - diffrence ke liye use hota hai matlab woh element jo set1 mein hai set2 mein nhi\n",
        "print(a)"
      ],
      "metadata": {
        "colab": {
          "base_uri": "https://localhost:8080/"
        },
        "id": "cjZfARfRnaJ9",
        "outputId": "a776b45a-7ac4-4a2a-dec6-5faf2acd11bf"
      },
      "execution_count": null,
      "outputs": [
        {
          "output_type": "stream",
          "name": "stdout",
          "text": [
            "{1, 2, 6}\n"
          ]
        }
      ]
    },
    {
      "cell_type": "code",
      "source": [
        "set1 = {1,2,3,4,5,6,7}\n",
        "set2 = {3,4,5,8,7,9,10}\n",
        "a = set1 ^ set2 # - diffrence ke liye use hota hai\n",
        "print(a)"
      ],
      "metadata": {
        "colab": {
          "base_uri": "https://localhost:8080/"
        },
        "id": "oMFrSGPPnxqd",
        "outputId": "7e59f2a6-f75f-4564-8c94-4f29538097c5"
      },
      "execution_count": null,
      "outputs": [
        {
          "output_type": "stream",
          "name": "stdout",
          "text": [
            "{1, 2, 6, 8, 9, 10}\n"
          ]
        }
      ]
    },
    {
      "cell_type": "code",
      "source": [
        "set1 =frozenset((1,2,3,4,5,6,7))\n",
        "set2 =frozenset((3,4,5,8,7,9,1))\n",
        "print(set1,\"\\n\",set2)"
      ],
      "metadata": {
        "colab": {
          "base_uri": "https://localhost:8080/"
        },
        "id": "WI5ftIyBoXog",
        "outputId": "0fd9b0d6-85f7-4deb-dbed-215a755f9465"
      },
      "execution_count": null,
      "outputs": [
        {
          "output_type": "stream",
          "name": "stdout",
          "text": [
            "frozenset({1, 2, 3, 4, 5, 6, 7}) \n",
            " frozenset({1, 3, 4, 5, 7, 8, 9})\n"
          ]
        }
      ]
    },
    {
      "cell_type": "markdown",
      "source": [
        "# Dictonary\n",
        "1. immutable hota hai\n",
        "2. only unique keys store krta hai\n",
        "3. mix data type"
      ],
      "metadata": {
        "id": "LhRcvNgrpRAE"
      }
    },
    {
      "cell_type": "code",
      "source": [
        "my_dict1 = {}\n",
        "my_dict2 = {1:'abx',2: 'xyz'}\n",
        "my_dict3 = {\"name\":\"satish\", \"age\": 20}\n",
        "print(my_dict1,my_dict2,my_dict3)"
      ],
      "metadata": {
        "colab": {
          "base_uri": "https://localhost:8080/"
        },
        "id": "iZM5e6L6qbwr",
        "outputId": "0a1c1b58-1fcc-4922-b0ff-b4f43fb65af8"
      },
      "execution_count": null,
      "outputs": [
        {
          "output_type": "stream",
          "name": "stdout",
          "text": [
            "{} {1: 'abx', 2: 'xyz'} {'name': 'satish', 'age': 20}\n"
          ]
        }
      ]
    },
    {
      "cell_type": "code",
      "source": [
        "# list of list\n",
        "d1 = dict([[1,'abc'],[2,'code'],[3,'defr']])\n",
        "print(d1)\n",
        "#list of tuple\n",
        "d2 = dict([('a',1),('b',2),('c',3)])\n",
        "print(d2)\n",
        "#list of set\n",
        "d3 = dict([{'hii',23},{'byy',56},{'hello',55}])\n",
        "print(d3)\n",
        "#tuple of list\n",
        "d4 = dict((['man',90],['woman',80]))\n",
        "print(d4)"
      ],
      "metadata": {
        "colab": {
          "base_uri": "https://localhost:8080/"
        },
        "id": "ghDc6vKSq-EJ",
        "outputId": "f289b76e-b89c-4913-9f4d-ef510bd14d5a"
      },
      "execution_count": null,
      "outputs": [
        {
          "output_type": "stream",
          "name": "stdout",
          "text": [
            "{1: 'abc', 2: 'code', 3: 'defr'}\n",
            "{'a': 1, 'b': 2, 'c': 3}\n",
            "{'hii': 23, 56: 'byy', 'hello': 55}\n",
            "{'man': 90, 'woman': 80}\n"
          ]
        }
      ]
    },
    {
      "cell_type": "markdown",
      "source": [
        "dict access"
      ],
      "metadata": {
        "id": "XEbmCU6qtFoH"
      }
    },
    {
      "cell_type": "code",
      "source": [
        "my_dict = {'name':'robin','age':20,'add':'guntur'}\n",
        "print(my_dict['add'])"
      ],
      "metadata": {
        "colab": {
          "base_uri": "https://localhost:8080/"
        },
        "id": "JbltkGwhtOoq",
        "outputId": "8c1fd0f1-c9f6-4fd1-c4be-7dadd8b19ad3"
      },
      "execution_count": null,
      "outputs": [
        {
          "output_type": "stream",
          "name": "stdout",
          "text": [
            "guntur\n"
          ]
        }
      ]
    },
    {
      "cell_type": "code",
      "source": [
        "my_dict = {'name':'robin','age':20,'add':'guntur'}\n",
        "print(my_dict.get('age'))"
      ],
      "metadata": {
        "colab": {
          "base_uri": "https://localhost:8080/"
        },
        "id": "dTW0KAXEtg7a",
        "outputId": "e55a319e-58cb-4a47-87e7-61d3e1b4c61a"
      },
      "execution_count": null,
      "outputs": [
        {
          "output_type": "stream",
          "name": "stdout",
          "text": [
            "20\n"
          ]
        }
      ]
    },
    {
      "cell_type": "code",
      "source": [
        "my_dict = {'name':'robin','age':20,'add':'guntur'}\n",
        "my_dict['name1'] = 'raju'#update krna\n",
        "print(my_dict)"
      ],
      "metadata": {
        "colab": {
          "base_uri": "https://localhost:8080/"
        },
        "id": "J66CfvQRtp60",
        "outputId": "bcdf5d54-2f54-4151-a6d8-9bbf4c078c6b"
      },
      "execution_count": null,
      "outputs": [
        {
          "output_type": "stream",
          "name": "stdout",
          "text": [
            "{'name': 'robin', 'age': 20, 'add': 'guntur', 'name1': 'raju'}\n"
          ]
        }
      ]
    },
    {
      "cell_type": "code",
      "source": [
        "my_dict = {'name':'robin','age':20,'add':'guntur'}\n",
        "print(my_dict.pop('age')) # element delete krne ke liya\n",
        "print(my_dict)"
      ],
      "metadata": {
        "id": "rTtwj4dqu5CO",
        "outputId": "f280aa05-e401-49b9-c561-838267aaaa59",
        "colab": {
          "base_uri": "https://localhost:8080/"
        }
      },
      "execution_count": null,
      "outputs": [
        {
          "output_type": "stream",
          "name": "stdout",
          "text": [
            "20\n",
            "{'name': 'robin', 'add': 'guntur'}\n"
          ]
        }
      ]
    },
    {
      "cell_type": "code",
      "source": [
        "my_dict = {'name':'robin','age':20,'add':'guntur'}\n",
        "a = my_dict.popitem() # delete krne ke liye yeh last element delete krta hai\n",
        "print(a)\n",
        "print(my_dict)"
      ],
      "metadata": {
        "id": "pb9_HbysvGFM",
        "colab": {
          "base_uri": "https://localhost:8080/"
        },
        "outputId": "b0b05545-025e-4be3-e745-e28bbbcb48ef"
      },
      "execution_count": null,
      "outputs": [
        {
          "output_type": "stream",
          "name": "stdout",
          "text": [
            "('add', 'guntur')\n",
            "{'name': 'robin', 'age': 20}\n"
          ]
        }
      ]
    },
    {
      "cell_type": "code",
      "source": [
        "x = [3,4,5,6,7,8]\n",
        "y = x\n",
        "y[2] = 9\n",
        "print(x,y)"
      ],
      "metadata": {
        "colab": {
          "base_uri": "https://localhost:8080/"
        },
        "id": "jdaPuhKCvwfu",
        "outputId": "68f8b7a0-b17c-41a7-b949-6c13dc6d68ad"
      },
      "execution_count": null,
      "outputs": [
        {
          "output_type": "stream",
          "name": "stdout",
          "text": [
            "[3, 4, 9, 6, 7, 8] [3, 4, 9, 6, 7, 8]\n"
          ]
        }
      ]
    },
    {
      "cell_type": "code",
      "source": [
        "x  = [ 4,8,9,2,7,5,99,]\n",
        "y = x\n",
        "y[3]=7777\n",
        "print(x,y)"
      ],
      "metadata": {
        "colab": {
          "base_uri": "https://localhost:8080/"
        },
        "id": "PAHWJMC1wobr",
        "outputId": "7ceaa8a5-9dab-4980-fb87-f85e9726a8ad"
      },
      "execution_count": null,
      "outputs": [
        {
          "output_type": "stream",
          "name": "stdout",
          "text": [
            "[4, 8, 9, 7777, 7, 5, 99] [4, 8, 9, 7777, 7, 5, 99]\n"
          ]
        }
      ]
    },
    {
      "cell_type": "code",
      "source": [
        "x  = [ 4,8,9,2,7,5,99,]\n",
        "y = x.copy()\n",
        "y[3]=7777\n",
        "print(x,y)"
      ],
      "metadata": {
        "id": "U5wWgUfnw62g",
        "outputId": "898288f6-7b1c-44dc-be30-1377496ddda0",
        "colab": {
          "base_uri": "https://localhost:8080/"
        }
      },
      "execution_count": null,
      "outputs": [
        {
          "output_type": "stream",
          "name": "stdout",
          "text": [
            "[4, 8, 9, 2, 7, 5, 99] [4, 8, 9, 7777, 7, 5, 99]\n"
          ]
        }
      ]
    },
    {
      "cell_type": "code",
      "source": [
        "subject = {2:4,3:9,5:10}\n",
        "print(subject.items())\n",
        "print(subject.keys())\n",
        "print(subject.values())"
      ],
      "metadata": {
        "id": "ua3mbvU8w-Hx",
        "colab": {
          "base_uri": "https://localhost:8080/"
        },
        "outputId": "ebe3dd0f-255c-4048-908d-401f72d5d677"
      },
      "execution_count": null,
      "outputs": [
        {
          "output_type": "stream",
          "name": "stdout",
          "text": [
            "dict_items([(2, 4), (3, 9), (5, 10)])\n",
            "dict_keys([2, 3, 5])\n",
            "dict_values([4, 9, 10])\n"
          ]
        }
      ]
    },
    {
      "cell_type": "code",
      "source": [
        "subject = {2:4,3:9,5:10}\n",
        "for k in subject.keys():\n",
        "  print(subject[k],end = ',')"
      ],
      "metadata": {
        "colab": {
          "base_uri": "https://localhost:8080/"
        },
        "id": "QlFw-bwpzzxo",
        "outputId": "a2851e40-2049-4203-ea23-ca910d734dd5"
      },
      "execution_count": null,
      "outputs": [
        {
          "output_type": "stream",
          "name": "stdout",
          "text": [
            "4,9,10,"
          ]
        }
      ]
    },
    {
      "cell_type": "code",
      "source": [
        "d = {3:5,4:7,8:10,9:11,12:35}# odd values mein 5 plus karo\n",
        "for k in d.keys():\n",
        "  if k%2 !=0:\n",
        "    d[k] +=5\n",
        "print(d)"
      ],
      "metadata": {
        "colab": {
          "base_uri": "https://localhost:8080/"
        },
        "id": "YZecCjS70NRj",
        "outputId": "c01debb6-afd1-4765-aa87-064939f33ffd"
      },
      "execution_count": null,
      "outputs": [
        {
          "output_type": "stream",
          "name": "stdout",
          "text": [
            "{3: 10, 4: 7, 8: 10, 9: 16, 12: 35}\n"
          ]
        }
      ]
    },
    {
      "cell_type": "code",
      "source": [
        "d = {3:[1,2,3,4,6],4:[7,8,9,10],5:[2,3,4,7,8],6:[1,3,5,2]}\n",
        "#count krna hai list mein present odd numbers ko\n",
        "for key in d:\n",
        "  odd_count = 0\n",
        "  for number in d[key]:\n",
        "    if number % 2 != 0:\n",
        "      odd_count += 1\n",
        "  d[key] = odd_count\n",
        "print(d)"
      ],
      "metadata": {
        "colab": {
          "base_uri": "https://localhost:8080/"
        },
        "id": "CZgZqHWM1fqC",
        "outputId": "38479295-842b-413c-83cc-924c052d8fd2"
      },
      "execution_count": null,
      "outputs": [
        {
          "output_type": "stream",
          "name": "stdout",
          "text": [
            "{3: 2, 4: 2, 5: 2, 6: 3}\n"
          ]
        }
      ]
    },
    {
      "cell_type": "code",
      "source": [
        "lst = (3,5,7,2,3,5,8,7,9,5,10,5,3)\n",
        "#o/p ana chaiye ki number kitni baar repeat hua hai aur nayi dict banana hai\n",
        "my_dict = {}\n",
        "for item in lst:\n",
        "  if item in my_dict:\n",
        "    my_dict[item] +=1\n",
        "  else:\n",
        "    my_dict[item] = 1\n",
        "print(my_dict)"
      ],
      "metadata": {
        "id": "_ozCHxt65ZsI",
        "colab": {
          "base_uri": "https://localhost:8080/"
        },
        "outputId": "9b9593f4-16cd-46ff-d05f-d8e3550d9232"
      },
      "execution_count": null,
      "outputs": [
        {
          "output_type": "stream",
          "name": "stdout",
          "text": [
            "{3: 3, 5: 4, 7: 2, 2: 1, 8: 1, 9: 1, 10: 1}\n"
          ]
        }
      ]
    },
    {
      "cell_type": "code",
      "source": [
        "d = {3:5,4:7,5:25,8:30,15:8}\n",
        "x = max(d.keys())\n",
        "print(x,d[x])\n",
        "k1,v1 = 3,5\n",
        "for k,v in d.items():\n",
        "  if v>v1:\n",
        "    k1=k\n",
        "    v1=v\n",
        "print(k1,v1)"
      ],
      "metadata": {
        "colab": {
          "base_uri": "https://localhost:8080/"
        },
        "id": "LB7rOJ21KGYf",
        "outputId": "036f23a8-798c-4085-ffa2-11887b9104cf"
      },
      "execution_count": null,
      "outputs": [
        {
          "output_type": "stream",
          "name": "stdout",
          "text": [
            "15 8\n",
            "8 30\n"
          ]
        }
      ]
    },
    {
      "cell_type": "code",
      "source": [
        "# dict comprihansion\n",
        "d = {'a':1,'b':2,'c':3,'d':4}\n",
        "new_dict = {k:v for k,v in d.items() if v>2}\n",
        "print(new_dict)"
      ],
      "metadata": {
        "colab": {
          "base_uri": "https://localhost:8080/"
        },
        "id": "5Cvqp7RvKhKN",
        "outputId": "10ff2881-c41d-4ef8-c7a8-a09462474a65"
      },
      "execution_count": null,
      "outputs": [
        {
          "output_type": "stream",
          "name": "stdout",
          "text": [
            "{'c': 3, 'd': 4}\n"
          ]
        }
      ]
    },
    {
      "cell_type": "code",
      "source": [
        "# dict comprihansion\n",
        "d = {'a':1,'b':2,'c':3,'d':4}\n",
        "new_dict = {k+\"c\":v*2 for k,v in d.items() if v>2}\n",
        "print(new_dict)"
      ],
      "metadata": {
        "colab": {
          "base_uri": "https://localhost:8080/"
        },
        "id": "pmA7NHGsLC5l",
        "outputId": "3e1ef41b-377e-4011-83f7-196c11b13a30"
      },
      "execution_count": null,
      "outputs": [
        {
          "output_type": "stream",
          "name": "stdout",
          "text": [
            "{'cc': 6, 'dc': 8}\n"
          ]
        }
      ]
    },
    {
      "cell_type": "code",
      "source": [
        "subject = {2:[42,3,4,56],3:[9,1,2,3,4],4:[16,2,3],5:[25,10,2]}\n",
        "for k in subject.keys():\n",
        "  subject[k]=sum(subject[k])\n",
        "print(subject)"
      ],
      "metadata": {
        "colab": {
          "base_uri": "https://localhost:8080/"
        },
        "id": "ceG5KIJaLOSn",
        "outputId": "8616ea82-fa69-41c6-a472-773c4d472abd"
      },
      "execution_count": null,
      "outputs": [
        {
          "output_type": "stream",
          "name": "stdout",
          "text": [
            "{2: 105, 3: 19, 4: 21, 5: 37}\n"
          ]
        }
      ]
    },
    {
      "cell_type": "code",
      "source": [
        "subject = {2:[42,3,4,56],3:[9,1,2,3,4],4:[16,2,3],5:[25,10,2]}\n",
        "for key in subject:\n",
        "  for i in range(len(subject[key])):\n",
        "    subject[key][i] += 1\n",
        "print(subject)"
      ],
      "metadata": {
        "colab": {
          "base_uri": "https://localhost:8080/"
        },
        "id": "V2hS1w-aPbqq",
        "outputId": "0913da3d-3afd-4655-f192-2f5baf0408b3"
      },
      "execution_count": null,
      "outputs": [
        {
          "output_type": "stream",
          "name": "stdout",
          "text": [
            "{2: [43, 4, 5, 57], 3: [10, 2, 3, 4, 5], 4: [17, 3, 4], 5: [26, 11, 3]}\n"
          ]
        }
      ]
    },
    {
      "cell_type": "code",
      "source": [
        "subject = {2:[42,3,4,56],3:[9,1,2,3,4],4:[16,2,3],5:[25,10,2]}\n",
        "for k,v in subject.items():\n",
        "  subject[k]=[i+1 for i in v]\n",
        "print(subject)"
      ],
      "metadata": {
        "colab": {
          "base_uri": "https://localhost:8080/"
        },
        "id": "-XnKsR0lQBPB",
        "outputId": "dc4ecb97-805d-466b-d014-f43d5dfbd95b"
      },
      "execution_count": null,
      "outputs": [
        {
          "output_type": "stream",
          "name": "stdout",
          "text": [
            "{2: [43, 4, 5, 57], 3: [10, 2, 3, 4, 5], 4: [17, 3, 4], 5: [26, 11, 3]}\n"
          ]
        }
      ]
    },
    {
      "cell_type": "markdown",
      "source": [
        "#FUNCTION"
      ],
      "metadata": {
        "id": "BdfpkyBb4Eub"
      }
    },
    {
      "cell_type": "code",
      "source": [
        "def fact(n):\n",
        "  temp = 1\n",
        "  for i in range(1,n+1):\n",
        "    temp*=i\n",
        "  return temp\n",
        "n = int(input(\"enter the n = \"))\n",
        "r =  int(input(\"enter the r = \"))\n",
        "n_fact=fact(n)\n",
        "r_fact=fact(r)\n",
        "n_min_r=fact(n-r)\n",
        "ans="
      ],
      "metadata": {
        "id": "6D6FjSftRXxH"
      },
      "execution_count": null,
      "outputs": []
    },
    {
      "cell_type": "code",
      "source": [
        "def print_info(name,id,age):\n",
        "  print(name+id)\n",
        "  print(\"age is \",age)\n",
        "print_info(\"robin\",\"rp5607\",20)"
      ],
      "metadata": {
        "colab": {
          "base_uri": "https://localhost:8080/"
        },
        "id": "wwrQbyEY3hkN",
        "outputId": "b81d0b95-ff97-4817-a1c5-54d5a487c770"
      },
      "execution_count": null,
      "outputs": [
        {
          "output_type": "stream",
          "name": "stdout",
          "text": [
            "robinrp5607\n",
            "age is  20\n"
          ]
        }
      ]
    },
    {
      "cell_type": "code",
      "source": [
        "def prime(lst):\n",
        "  prime_sum = 0\n",
        "  for num in lst:\n",
        "    if num > 1:\n",
        "      is_prime = True\n",
        "      for i in range(2, int(num**0.5) + 1):\n",
        "        if num % i == 0:\n",
        "          is_prime = False\n",
        "          break\n",
        "      if is_prime:\n",
        "        prime_sum += num\n",
        "  return prime_sum\n",
        "\n",
        "lst = [3, 2, 4, 5, 3, 7, 8, 9, 4, 3, 2, 1]\n",
        "total_prime_sum = prime(lst)\n",
        "print(\"The sum of prime numbers in the list is: \",{total_prime_sum})"
      ],
      "metadata": {
        "id": "GUNwKpe93-Ji"
      },
      "execution_count": null,
      "outputs": []
    },
    {
      "cell_type": "code",
      "source": [
        "def check_prime(n):\n",
        "  if n == 2 or n == 3 or n==5 or n==7:\n",
        "    return True\n",
        "  else :\n",
        "    return False\n",
        "lst = [3, 2, 4, 5, 3, 7, 8, 9, 4, 3, 2, 1]\n",
        "ans = 0\n",
        "for i in lst:\n",
        "  if check_prime(i):\n",
        "    ans+=i\n",
        "print(ans)"
      ],
      "metadata": {
        "colab": {
          "base_uri": "https://localhost:8080/"
        },
        "id": "5Vgx6t9w55SX",
        "outputId": "b82a6824-ca4d-458f-a995-8f021c311127"
      },
      "execution_count": null,
      "outputs": [
        {
          "output_type": "stream",
          "name": "stdout",
          "text": [
            "25\n"
          ]
        }
      ]
    },
    {
      "cell_type": "markdown",
      "source": [
        "#lambda function\n",
        ". also known as anonimous function it has no name\n"
      ],
      "metadata": {
        "id": "fqA0pGi29Tbb"
      }
    },
    {
      "cell_type": "code",
      "source": [
        "x = lambda n:n*n*n\n",
        "print(type(x))\n",
        "print(x(3))"
      ],
      "metadata": {
        "colab": {
          "base_uri": "https://localhost:8080/"
        },
        "id": "cRpPVTML7-oT",
        "outputId": "ab72468a-f5e3-4602-d4b5-24618b1cac1f"
      },
      "execution_count": null,
      "outputs": [
        {
          "output_type": "stream",
          "name": "stdout",
          "text": [
            "<class 'function'>\n",
            "27\n"
          ]
        }
      ]
    },
    {
      "cell_type": "code",
      "source": [
        "# take 3 number as  input from user and calculate average of the numbers\n",
        "a = int(input(\"enter the number = \"))\n",
        "b = int(input(\"enter the number = \"))\n",
        "c = int(input(\"enter the number = \"))\n",
        "average = lambda x,y,z :(x+y+z)/3\n",
        "print(\"average of numbers = \",average(a,b,c))"
      ],
      "metadata": {
        "colab": {
          "base_uri": "https://localhost:8080/"
        },
        "id": "Imk5OgLJ-Gnj",
        "outputId": "e87bdc58-daf8-4bfb-b137-eff88e698733"
      },
      "execution_count": null,
      "outputs": [
        {
          "output_type": "stream",
          "name": "stdout",
          "text": [
            "enter the number = 1\n",
            "enter the number = 2\n",
            "enter the number = 3\n",
            "average of numbers =  2.0\n"
          ]
        }
      ]
    },
    {
      "cell_type": "code",
      "source": [
        "# take string as input from user and check string is start from a or not\n",
        "y = lambda x:x[0] == 'a'\n",
        "y('hello')"
      ],
      "metadata": {
        "colab": {
          "base_uri": "https://localhost:8080/"
        },
        "id": "hrNWyDw2-ziM",
        "outputId": "7a88158b-05c5-4181-f3bf-69100046ff17"
      },
      "execution_count": null,
      "outputs": [
        {
          "output_type": "execute_result",
          "data": {
            "text/plain": [
              "False"
            ]
          },
          "metadata": {},
          "execution_count": 15
        }
      ]
    },
    {
      "cell_type": "code",
      "source": [
        "x = lambda n: \"even\" if n%2==0 else \"odd\"\n",
        "print(x(5))"
      ],
      "metadata": {
        "colab": {
          "base_uri": "https://localhost:8080/"
        },
        "id": "0jjOonm5A9Pr",
        "outputId": "9c1ba6b2-a894-42b0-a5f3-d3fbf297b093"
      },
      "execution_count": null,
      "outputs": [
        {
          "output_type": "stream",
          "name": "stdout",
          "text": [
            "odd\n"
          ]
        }
      ]
    },
    {
      "cell_type": "code",
      "source": [
        "# take input from user and check number is prime or not using lambda function\n",
        "is_prime = lambda n: n > 1 and all(n % i != 0 for i in range(2, int(n**0.5) + 1))\n",
        "num = int(input(\"Enter a number: \"))\n",
        "if is_prime(num):\n",
        "  print(f\"{num} is a prime number\")\n",
        "else:\n",
        "  print(f\"{num} is not a prime number\")"
      ],
      "metadata": {
        "colab": {
          "base_uri": "https://localhost:8080/"
        },
        "id": "GuceubidCcru",
        "outputId": "4ef30f4f-0cc9-40da-e02f-581011c93f9d"
      },
      "execution_count": null,
      "outputs": [
        {
          "output_type": "stream",
          "name": "stdout",
          "text": [
            "Enter a number: 55\n",
            "55 is not a prime number\n"
          ]
        }
      ]
    },
    {
      "cell_type": "code",
      "source": [],
      "metadata": {
        "colab": {
          "base_uri": "https://localhost:8080/"
        },
        "id": "EzXpLSgSDSXm",
        "outputId": "9bec6a68-917f-4a77-8665-d66db76abd3d"
      },
      "execution_count": null,
      "outputs": [
        {
          "output_type": "stream",
          "name": "stdout",
          "text": [
            "True\n"
          ]
        }
      ]
    },
    {
      "cell_type": "markdown",
      "source": [
        "map function"
      ],
      "metadata": {
        "id": "6ai05e__FdUp"
      }
    },
    {
      "cell_type": "code",
      "source": [
        "lst = [1,2,3,4,5,6,7,8,9]\n",
        "x = list(map(lambda x:x**2,lst))\n",
        "print(x)"
      ],
      "metadata": {
        "colab": {
          "base_uri": "https://localhost:8080/"
        },
        "id": "9yc8wi9zDsWU",
        "outputId": "cd8dfca9-02f2-41e9-ea5e-390e638af323"
      },
      "execution_count": null,
      "outputs": [
        {
          "output_type": "stream",
          "name": "stdout",
          "text": [
            "[1, 4, 9, 16, 25, 36, 49, 64, 81]\n"
          ]
        }
      ]
    },
    {
      "cell_type": "code",
      "source": [
        "lst = ['hello','coding','rich']\n",
        "x = list(map(lambda x:x.upper(),lst))\n",
        "print(x)"
      ],
      "metadata": {
        "colab": {
          "base_uri": "https://localhost:8080/"
        },
        "id": "UdkMtTKuF-wK",
        "outputId": "062d94a8-de0e-4228-a007-33907420ab42"
      },
      "execution_count": null,
      "outputs": [
        {
          "output_type": "stream",
          "name": "stdout",
          "text": [
            "['HELLO', 'CODING', 'RICH']\n"
          ]
        }
      ]
    },
    {
      "cell_type": "markdown",
      "source": [
        "fillter ()\n",
        "\n",
        "* a fillter operation applies to all the function to all the element of a sequesnce . a sequence of those element for which function returns true is returned\n"
      ],
      "metadata": {
        "id": "Y4IrcGbXRX05"
      }
    },
    {
      "cell_type": "code",
      "source": [
        "lst = [1,2,3,4,5,6,7,8,9]\n",
        "var = list(filter(lambda x:x>4,lst))\n",
        "print(var)"
      ],
      "metadata": {
        "colab": {
          "base_uri": "https://localhost:8080/"
        },
        "id": "meNkNq_LRUMN",
        "outputId": "8e02faba-bb67-45f2-da6b-d5a11b9bb6a2"
      },
      "execution_count": null,
      "outputs": [
        {
          "output_type": "stream",
          "name": "stdout",
          "text": [
            "[5, 6, 7, 8, 9]\n"
          ]
        }
      ]
    },
    {
      "cell_type": "code",
      "source": [
        "# ek list of string lena hai aur unmein se jo a se start hai unko consider krna hai using filter\n",
        "lst = ['hello','apple','appe','ausu']\n",
        "a = list(filter(lambda x:x[0]=='a',lst))\n",
        "print(a)"
      ],
      "metadata": {
        "colab": {
          "base_uri": "https://localhost:8080/"
        },
        "id": "sFeWoGvUSNSv",
        "outputId": "b6bcae1a-4e24-44d0-a6af-cff21b34c3ea"
      },
      "execution_count": null,
      "outputs": [
        {
          "output_type": "stream",
          "name": "stdout",
          "text": [
            "['apple', 'appe', 'ausu']\n"
          ]
        }
      ]
    },
    {
      "cell_type": "markdown",
      "source": [
        "reduce"
      ],
      "metadata": {
        "id": "MLzx5fcMTUXI"
      }
    },
    {
      "cell_type": "code",
      "source": [
        "from functools import reduce\n",
        "l = [2,3,4,5,6,7,8,9]\n",
        "y = reduce(lambda x,y:x+y,l)\n",
        "print(y)"
      ],
      "metadata": {
        "colab": {
          "base_uri": "https://localhost:8080/"
        },
        "id": "km5_heUvTJNB",
        "outputId": "db30148c-b694-429b-94e9-8a3fb1159904"
      },
      "execution_count": null,
      "outputs": [
        {
          "output_type": "stream",
          "name": "stdout",
          "text": [
            "44\n"
          ]
        }
      ]
    },
    {
      "cell_type": "markdown",
      "source": [
        "exception handling\n",
        "try except"
      ],
      "metadata": {
        "id": "8CzKBTP7XMLP"
      }
    },
    {
      "cell_type": "code",
      "source": [
        "try:\n",
        "  lst = [12,3,14,5,6]\n",
        "  print(lst[10])\n",
        "except:\n",
        "  print(\"index is out of range please enter the valid index\")"
      ],
      "metadata": {
        "colab": {
          "base_uri": "https://localhost:8080/"
        },
        "id": "zZQqMLVDT2A8",
        "outputId": "fd59e78f-9647-4033-8291-9633a4a18ab0"
      },
      "execution_count": null,
      "outputs": [
        {
          "output_type": "stream",
          "name": "stdout",
          "text": [
            "index is out of range please enter the valid index\n"
          ]
        }
      ]
    },
    {
      "cell_type": "code",
      "source": [
        "#multiple except\n",
        "try:\n",
        "  lst = [12,12,13,13,14,15,16,17,180]\n",
        "  print(lst[10])\n",
        "  print(b)\n",
        "  print(5/0)\n",
        "except IndexError:\n",
        "  print(\"enter valid index number \")\n",
        "except NameEror:\n",
        "  print(\"variable is not define\")\n",
        "except DivisionError:\n",
        "  print(\"cannot divide by zero\")"
      ],
      "metadata": {
        "colab": {
          "base_uri": "https://localhost:8080/"
        },
        "id": "xIWTIbpfY_8T",
        "outputId": "a113f524-425f-43f3-c0be-02041d76562d"
      },
      "execution_count": null,
      "outputs": [
        {
          "output_type": "stream",
          "name": "stdout",
          "text": [
            "enter valid index number \n"
          ]
        }
      ]
    },
    {
      "cell_type": "code",
      "source": [
        "# find the kth max and min element of an array\n",
        "num = (5,5,8,7,9,2,4,6,58,77)\n",
        "sorted_num = sorted(num)\n",
        "print(sorted_num)\n"
      ],
      "metadata": {
        "colab": {
          "base_uri": "https://localhost:8080/"
        },
        "id": "AetIWXCaamcD",
        "outputId": "4f83146f-6feb-4b30-d86b-40bf457bcaed"
      },
      "execution_count": null,
      "outputs": [
        {
          "output_type": "stream",
          "name": "stdout",
          "text": [
            "[2, 4, 5, 5, 6, 7, 8, 9, 58, 77]\n"
          ]
        }
      ]
    },
    {
      "cell_type": "code",
      "source": [
        "# Find max and min of an array without using max() or min() using sorting\n",
        "my_list = [5, 5, 8, 7, 9, 2, 4, 6, 58, 77]\n"
      ],
      "metadata": {
        "colab": {
          "base_uri": "https://localhost:8080/"
        },
        "id": "0DmHF85onyxR",
        "outputId": "a85001b0-6e77-45cf-961d-167bb89b392d"
      },
      "execution_count": null,
      "outputs": [
        {
          "output_type": "stream",
          "name": "stdout",
          "text": [
            "The minimum element is: 2\n",
            "The maximum element is: 77\n"
          ]
        }
      ]
    },
    {
      "cell_type": "code",
      "source": [],
      "metadata": {
        "id": "y6pzPQOIobzU"
      },
      "execution_count": null,
      "outputs": []
    },
    {
      "cell_type": "code",
      "metadata": {
        "colab": {
          "base_uri": "https://localhost:8080/"
        },
        "id": "18aa8d6e",
        "outputId": "55e0e6de-a402-4b12-e6e2-3aef43f5e7e1"
      },
      "source": [
        "my_list = [5, 5, 8, 7, 9, 2, 4, 6, 58, 77]\n",
        "if not my_list:\n",
        "  print(\"The list is empty.\")\n",
        "else:\n",
        "  maximum = my_list[0]\n",
        "  minimum = my_list[0]\n",
        "  for number in my_list[1:]:\n",
        "    if number > maximum:\n",
        "      maximum = number\n",
        "    if number < minimum:\n",
        "      minimum = number\n",
        "\n",
        "  print(f\"The minimum element is: {minimum}\")\n",
        "  print(f\"The maximum element is: {maximum}\")"
      ],
      "execution_count": null,
      "outputs": [
        {
          "output_type": "stream",
          "name": "stdout",
          "text": [
            "The minimum element is: 2\n",
            "The maximum element is: 77\n"
          ]
        }
      ]
    },
    {
      "cell_type": "code",
      "source": [],
      "metadata": {
        "id": "mIbMTxaqphHI"
      },
      "execution_count": null,
      "outputs": []
    },
    {
      "cell_type": "code",
      "metadata": {
        "colab": {
          "base_uri": "https://localhost:8080/"
        },
        "id": "48d36dae",
        "outputId": "e755b059-3e73-4d57-d964-991c49f749f1"
      },
      "source": [
        "# Find the kth max and min element of an array using sorting\n",
        "my_list = [5, 5, 8, 7, 9, 2, 4, 6, 58, 77]\n",
        "k = 3 # Example: Find the 3rd maximum and minimum\n",
        "\n",
        "if not my_list:\n",
        "  print(\"The list is empty.\")\n",
        "elif k <= 0 or k > len(my_list):\n",
        "  print(f\"Invalid value for k: {k}. k must be between 1 and {len(my_list)}\")\n",
        "else:\n",
        "  sorted_list = sorted(my_list)\n",
        "\n",
        "  # Find the kth minimum element\n",
        "  kth_minimum = sorted_list[k - 1]\n",
        "\n",
        "  # Find the kth maximum element\n",
        "  kth_maximum = sorted_list[-k]\n",
        "\n",
        "  print(f\"The {k}th minimum element is: {kth_minimum}\")\n",
        "  print(f\"The {k}th maximum element is: {kth_maximum}\")"
      ],
      "execution_count": null,
      "outputs": [
        {
          "output_type": "stream",
          "name": "stdout",
          "text": [
            "The 3th minimum element is: 5\n",
            "The 3th maximum element is: 9\n"
          ]
        }
      ]
    },
    {
      "cell_type": "code",
      "source": [
        "import pandas as pd\n",
        "import numpy as np\n",
        "s = pd.Series([1,2,3], index = ['a','b','x'])\n",
        "print(s.values)"
      ],
      "metadata": {
        "id": "biFvYCVGwmmM",
        "colab": {
          "base_uri": "https://localhost:8080/"
        },
        "outputId": "1dc87536-dcf4-4464-f234-12dcab8b1d9a"
      },
      "execution_count": null,
      "outputs": [
        {
          "output_type": "stream",
          "name": "stdout",
          "text": [
            "[1 2 3]\n"
          ]
        }
      ]
    },
    {
      "cell_type": "code",
      "source": [
        "s.name ='myseries'\n",
        "print(s.name)"
      ],
      "metadata": {
        "colab": {
          "base_uri": "https://localhost:8080/"
        },
        "id": "LLoyGDBvKRqV",
        "outputId": "6b85d4ba-0aea-4d50-a5c2-223feddac2e9"
      },
      "execution_count": null,
      "outputs": [
        {
          "output_type": "stream",
          "name": "stdout",
          "text": [
            "myseries\n"
          ]
        }
      ]
    },
    {
      "cell_type": "code",
      "source": [
        "print(s.size)"
      ],
      "metadata": {
        "colab": {
          "base_uri": "https://localhost:8080/"
        },
        "id": "HkCAp389L7UB",
        "outputId": "74e12ecf-9a20-4526-a429-158e83c9aa74"
      },
      "execution_count": null,
      "outputs": [
        {
          "output_type": "stream",
          "name": "stdout",
          "text": [
            "3\n"
          ]
        }
      ]
    },
    {
      "cell_type": "code",
      "source": [
        "print(s.shape)"
      ],
      "metadata": {
        "colab": {
          "base_uri": "https://localhost:8080/"
        },
        "id": "cF0nweFOM3Bq",
        "outputId": "92175f45-1209-4372-e422-9cc027980fb6"
      },
      "execution_count": null,
      "outputs": [
        {
          "output_type": "stream",
          "name": "stdout",
          "text": [
            "(3,)\n"
          ]
        }
      ]
    },
    {
      "cell_type": "code",
      "source": [
        "#create a series for with unique  values\n",
        "marks_series = pd.Series([90,85,78,92,88])\n",
        "print(marks_series.is_unique)"
      ],
      "metadata": {
        "colab": {
          "base_uri": "https://localhost:8080/"
        },
        "id": "KbI0JMpHM5cg",
        "outputId": "856e5b83-640d-44e5-91f5-95ca5bcd7730"
      },
      "execution_count": null,
      "outputs": [
        {
          "output_type": "stream",
          "name": "stdout",
          "text": [
            "True\n"
          ]
        }
      ]
    },
    {
      "cell_type": "code",
      "source": [
        "s_with_nan = pd.Series([1,2,None,4])\n",
        "print(s_with_nan.isnull())\n",
        "print(s_with_nan.notnull())"
      ],
      "metadata": {
        "colab": {
          "base_uri": "https://localhost:8080/"
        },
        "id": "EotQDa1PN5ay",
        "outputId": "bb55e820-4960-4e6e-bb67-6689e6abbb41"
      },
      "execution_count": null,
      "outputs": [
        {
          "output_type": "stream",
          "name": "stdout",
          "text": [
            "0    False\n",
            "1    False\n",
            "2     True\n",
            "3    False\n",
            "dtype: bool\n",
            "0     True\n",
            "1     True\n",
            "2    False\n",
            "3     True\n",
            "dtype: bool\n"
          ]
        }
      ]
    },
    {
      "cell_type": "code",
      "source": [
        "data = pd.Series([10,20,30,40,50],index=['a','b','c','d','e'])\n",
        "print(data)"
      ],
      "metadata": {
        "colab": {
          "base_uri": "https://localhost:8080/"
        },
        "id": "wm32RtwfPJ7_",
        "outputId": "3a071164-8dec-47e4-b5bc-77e06cc7de95"
      },
      "execution_count": null,
      "outputs": [
        {
          "output_type": "stream",
          "name": "stdout",
          "text": [
            "a    10\n",
            "b    20\n",
            "c    30\n",
            "d    40\n",
            "e    50\n",
            "dtype: int64\n"
          ]
        }
      ]
    },
    {
      "cell_type": "code",
      "source": [
        "print(data['c'])"
      ],
      "metadata": {
        "colab": {
          "base_uri": "https://localhost:8080/"
        },
        "id": "Y3C7cqF9P3_u",
        "outputId": "fb5417a8-e8a1-4ea6-c937-f4d65aac0fd7"
      },
      "execution_count": null,
      "outputs": [
        {
          "output_type": "stream",
          "name": "stdout",
          "text": [
            "30\n"
          ]
        }
      ]
    },
    {
      "cell_type": "code",
      "source": [
        "print(data.loc['c'])#name se access ke liye"
      ],
      "metadata": {
        "colab": {
          "base_uri": "https://localhost:8080/"
        },
        "id": "vnT9AHIjQCsn",
        "outputId": "ed0a7349-b829-41fc-da8e-00b69a54894e"
      },
      "execution_count": null,
      "outputs": [
        {
          "output_type": "stream",
          "name": "stdout",
          "text": [
            "30\n"
          ]
        }
      ]
    },
    {
      "cell_type": "code",
      "source": [
        "print(data.iloc[2])#index location se access krne ke liye"
      ],
      "metadata": {
        "colab": {
          "base_uri": "https://localhost:8080/"
        },
        "id": "i80AYL8LRl3h",
        "outputId": "1d3ce4c4-b4ed-4356-d702-e3014d1e8da8"
      },
      "execution_count": null,
      "outputs": [
        {
          "output_type": "stream",
          "name": "stdout",
          "text": [
            "30\n"
          ]
        }
      ]
    },
    {
      "cell_type": "code",
      "source": [
        "print(data[['a','c','e']])#using label indexing"
      ],
      "metadata": {
        "colab": {
          "base_uri": "https://localhost:8080/"
        },
        "id": "ZqpnDR0CRxSF",
        "outputId": "1b07b7d5-d330-4856-c183-f0112d62d8e2"
      },
      "execution_count": null,
      "outputs": [
        {
          "output_type": "stream",
          "name": "stdout",
          "text": [
            "a    10\n",
            "c    30\n",
            "e    50\n",
            "dtype: int64\n"
          ]
        }
      ]
    },
    {
      "cell_type": "code",
      "source": [
        "#using integer position or fancy indexing\n",
        "print(data [[0,2,4]])\n",
        "print()\n",
        "print(data[[1,3]])\n",
        "print()\n",
        "print(data[[1,2,3]])"
      ],
      "metadata": {
        "colab": {
          "base_uri": "https://localhost:8080/"
        },
        "id": "_BGYvyaZSh1g",
        "outputId": "05f2b4bb-254d-4290-a119-ef5ef39689ce"
      },
      "execution_count": null,
      "outputs": [
        {
          "output_type": "stream",
          "name": "stdout",
          "text": [
            "a    10\n",
            "c    30\n",
            "e    50\n",
            "dtype: int64\n",
            "\n",
            "b    20\n",
            "d    40\n",
            "dtype: int64\n",
            "\n",
            "b    20\n",
            "c    30\n",
            "d    40\n",
            "dtype: int64\n"
          ]
        },
        {
          "output_type": "stream",
          "name": "stderr",
          "text": [
            "/tmp/ipython-input-23-955853564.py:2: FutureWarning: Series.__getitem__ treating keys as positions is deprecated. In a future version, integer keys will always be treated as labels (consistent with DataFrame behavior). To access a value by position, use `ser.iloc[pos]`\n",
            "  print(data [[0,2,4]])\n",
            "/tmp/ipython-input-23-955853564.py:4: FutureWarning: Series.__getitem__ treating keys as positions is deprecated. In a future version, integer keys will always be treated as labels (consistent with DataFrame behavior). To access a value by position, use `ser.iloc[pos]`\n",
            "  print(data[[1,3]])\n",
            "/tmp/ipython-input-23-955853564.py:6: FutureWarning: Series.__getitem__ treating keys as positions is deprecated. In a future version, integer keys will always be treated as labels (consistent with DataFrame behavior). To access a value by position, use `ser.iloc[pos]`\n",
            "  print(data[[1,2,3]])\n"
          ]
        }
      ]
    },
    {
      "cell_type": "markdown",
      "source": [
        "##slicing\n",
        "#it allows you to extract a subset of the series"
      ],
      "metadata": {
        "id": "TDGBNFGSUj6W"
      }
    },
    {
      "cell_type": "code",
      "source": [
        "data = pd.Series([10,20,30,40,50],index = ['a','b','c','d','e'])\n",
        "print(data)"
      ],
      "metadata": {
        "colab": {
          "base_uri": "https://localhost:8080/"
        },
        "id": "KD7meIxOUPoW",
        "outputId": "3b3aa221-00ea-4c1d-db84-bd91e680be16"
      },
      "execution_count": null,
      "outputs": [
        {
          "output_type": "stream",
          "name": "stdout",
          "text": [
            "a    10\n",
            "b    20\n",
            "c    30\n",
            "d    40\n",
            "e    50\n",
            "dtype: int64\n"
          ]
        }
      ]
    },
    {
      "cell_type": "code",
      "source": [
        "print(data['b':'d'])"
      ],
      "metadata": {
        "colab": {
          "base_uri": "https://localhost:8080/"
        },
        "id": "DRTahRcPVBS_",
        "outputId": "9498b26b-2114-461d-f8a1-f3f91bc82387"
      },
      "execution_count": null,
      "outputs": [
        {
          "output_type": "stream",
          "name": "stdout",
          "text": [
            "b    20\n",
            "c    30\n",
            "d    40\n",
            "dtype: int64\n"
          ]
        }
      ]
    },
    {
      "cell_type": "code",
      "source": [
        "print(data[1:4])\n",
        "print()\n",
        "print(data[2:5])\n",
        "print()\n",
        "print(data[::-1])\n",
        "print()\n",
        "print(data[0::2])"
      ],
      "metadata": {
        "colab": {
          "base_uri": "https://localhost:8080/"
        },
        "id": "GIHXWm_1Vt3Y",
        "outputId": "02a02a82-20b9-49f5-8379-155244b9f383"
      },
      "execution_count": null,
      "outputs": [
        {
          "output_type": "stream",
          "name": "stdout",
          "text": [
            "b    20\n",
            "c    30\n",
            "d    40\n",
            "dtype: int64\n",
            "\n",
            "c    30\n",
            "d    40\n",
            "e    50\n",
            "dtype: int64\n",
            "\n",
            "e    50\n",
            "d    40\n",
            "c    30\n",
            "b    20\n",
            "a    10\n",
            "dtype: int64\n",
            "\n",
            "a    10\n",
            "c    30\n",
            "e    50\n",
            "dtype: int64\n"
          ]
        }
      ]
    },
    {
      "cell_type": "markdown",
      "source": [
        "BOOLEAN SLICING\n",
        "### CONDITION BASED SLICING"
      ],
      "metadata": {
        "id": "E53ArBXoWYH2"
      }
    },
    {
      "cell_type": "code",
      "source": [
        "#get element grater than 25\n",
        "print(data[data > 25])\n",
        "print()\n",
        "##get element less than 25\n",
        "print(data[data < 25])\n",
        "print()\n",
        "#get element more than equal to 20\n",
        "print(data[data >= 20])\n",
        "print()\n",
        "#get element more than equal to 20\n",
        "print(data[data <= 20])\n",
        "print()"
      ],
      "metadata": {
        "colab": {
          "base_uri": "https://localhost:8080/"
        },
        "id": "qH4oNOz_WCXl",
        "outputId": "2d84464a-cd41-4c60-ca16-7e65218aa512"
      },
      "execution_count": null,
      "outputs": [
        {
          "output_type": "stream",
          "name": "stdout",
          "text": [
            "c    30\n",
            "d    40\n",
            "e    50\n",
            "dtype: int64\n",
            "\n",
            "a    10\n",
            "b    20\n",
            "dtype: int64\n",
            "\n",
            "b    20\n",
            "c    30\n",
            "d    40\n",
            "e    50\n",
            "dtype: int64\n",
            "\n",
            "a    10\n",
            "b    20\n",
            "dtype: int64\n",
            "\n"
          ]
        }
      ]
    },
    {
      "cell_type": "code",
      "source": [
        "x = pd.Series(np.arange(1,25))\n",
        "print(x)\n",
        "#select all the even numbers\n",
        "# all the odd numbers\n",
        "#number divisible by both 2,4"
      ],
      "metadata": {
        "colab": {
          "base_uri": "https://localhost:8080/"
        },
        "id": "QNbgxsDLXCKs",
        "outputId": "efc44f5b-836c-4ed5-97d6-a3d8fd93e57c"
      },
      "execution_count": null,
      "outputs": [
        {
          "output_type": "stream",
          "name": "stdout",
          "text": [
            "0      1\n",
            "1      2\n",
            "2      3\n",
            "3      4\n",
            "4      5\n",
            "5      6\n",
            "6      7\n",
            "7      8\n",
            "8      9\n",
            "9     10\n",
            "10    11\n",
            "11    12\n",
            "12    13\n",
            "13    14\n",
            "14    15\n",
            "15    16\n",
            "16    17\n",
            "17    18\n",
            "18    19\n",
            "19    20\n",
            "20    21\n",
            "21    22\n",
            "22    23\n",
            "23    24\n",
            "dtype: int64\n"
          ]
        }
      ]
    },
    {
      "cell_type": "code",
      "source": [],
      "metadata": {
        "id": "1rGSz9qtXg26"
      },
      "execution_count": null,
      "outputs": []
    },
    {
      "cell_type": "code",
      "metadata": {
        "colab": {
          "base_uri": "https://localhost:8080/"
        },
        "id": "6b96bd4a",
        "outputId": "5e93743f-bdb3-454d-8815-d30ae3034647"
      },
      "source": [
        "# Select all the even numbers\n",
        "even_numbers = x[x % 2 == 0]\n",
        "print(\"Even numbers:\")\n",
        "print(even_numbers)"
      ],
      "execution_count": null,
      "outputs": [
        {
          "output_type": "stream",
          "name": "stdout",
          "text": [
            "Even numbers:\n",
            "1      2\n",
            "3      4\n",
            "5      6\n",
            "7      8\n",
            "9     10\n",
            "11    12\n",
            "13    14\n",
            "15    16\n",
            "17    18\n",
            "19    20\n",
            "21    22\n",
            "23    24\n",
            "dtype: int64\n"
          ]
        }
      ]
    },
    {
      "cell_type": "code",
      "metadata": {
        "colab": {
          "base_uri": "https://localhost:8080/"
        },
        "id": "627fbff1",
        "outputId": "268b66e1-9c2c-420b-aa33-1ca39602e047"
      },
      "source": [
        "# Select all the odd numbers\n",
        "odd_numbers = x[x % 2 != 0]\n",
        "print(\"Odd numbers:\")\n",
        "print(odd_numbers)"
      ],
      "execution_count": null,
      "outputs": [
        {
          "output_type": "stream",
          "name": "stdout",
          "text": [
            "Odd numbers:\n",
            "0      1\n",
            "2      3\n",
            "4      5\n",
            "6      7\n",
            "8      9\n",
            "10    11\n",
            "12    13\n",
            "14    15\n",
            "16    17\n",
            "18    19\n",
            "20    21\n",
            "22    23\n",
            "dtype: int64\n"
          ]
        }
      ]
    },
    {
      "cell_type": "code",
      "metadata": {
        "colab": {
          "base_uri": "https://localhost:8080/"
        },
        "id": "0551b659",
        "outputId": "7fdb45ba-2662-46dc-a5da-56b0460776f9"
      },
      "source": [
        "# Select numbers divisible by both 2 and 4 (which is equivalent to divisible by 4)\n",
        "divisible_by_2_4 = x[(x % 2 == 0)&(x % 4 == 0)]\n",
        "print(\"Numbers divisible by both 2 and 4:\")\n",
        "print(divisible_by_2_4)"
      ],
      "execution_count": null,
      "outputs": [
        {
          "output_type": "stream",
          "name": "stdout",
          "text": [
            "Numbers divisible by both 2 and 4:\n",
            "3      4\n",
            "7      8\n",
            "11    12\n",
            "15    16\n",
            "19    20\n",
            "23    24\n",
            "dtype: int64\n"
          ]
        }
      ]
    },
    {
      "cell_type": "markdown",
      "source": [
        "MODIFYING ELEMENT\n"
      ],
      "metadata": {
        "id": "x5z4-fKaaKI7"
      }
    },
    {
      "cell_type": "code",
      "source": [
        "data = pd.Series([10,20,40,30,50],index = ['a','b','c','d','e'])\n",
        "print(data)"
      ],
      "metadata": {
        "colab": {
          "base_uri": "https://localhost:8080/"
        },
        "id": "TdKLdMcJaJwF",
        "outputId": "2539b95a-00fc-4845-9b39-01bedfcb1412"
      },
      "execution_count": null,
      "outputs": [
        {
          "output_type": "stream",
          "name": "stdout",
          "text": [
            "a    10\n",
            "b    20\n",
            "c    40\n",
            "d    30\n",
            "e    50\n",
            "dtype: int64\n"
          ]
        }
      ]
    },
    {
      "cell_type": "code",
      "source": [
        "data['a'] = 15\n",
        "print(data)\n",
        "print()\n",
        "data[1:3]=[25,35]\n",
        "print(data)"
      ],
      "metadata": {
        "colab": {
          "base_uri": "https://localhost:8080/"
        },
        "id": "ubm-Nt-SY1wY",
        "outputId": "57cc9085-38dd-4242-f481-415cfd0b4f85"
      },
      "execution_count": null,
      "outputs": [
        {
          "output_type": "stream",
          "name": "stdout",
          "text": [
            "a    15\n",
            "b    20\n",
            "c    40\n",
            "d    30\n",
            "e    50\n",
            "dtype: int64\n",
            "\n",
            "a    15\n",
            "b    25\n",
            "c    35\n",
            "d    30\n",
            "e    50\n",
            "dtype: int64\n"
          ]
        }
      ]
    },
    {
      "cell_type": "code",
      "source": [
        "#series create karo jo divisble by 3&5\n",
        "s1 = pd.Series(np.arange(5,50))\n",
        "s2 = s1[(s1%3 == 0)&(s1%5 == 0)]\n",
        "print(s2)"
      ],
      "metadata": {
        "colab": {
          "base_uri": "https://localhost:8080/"
        },
        "id": "RnCt3WAQbI7P",
        "outputId": "948fe33a-8cf3-42bc-b7ee-38d77b850bf3"
      },
      "execution_count": null,
      "outputs": [
        {
          "output_type": "stream",
          "name": "stdout",
          "text": [
            "10    15\n",
            "25    30\n",
            "40    45\n",
            "dtype: int64\n"
          ]
        }
      ]
    },
    {
      "cell_type": "code",
      "source": [
        "s1 = pd.Series([i for i in range(5,50) if i%3==0 or i%5==0])\n",
        "print(s1)"
      ],
      "metadata": {
        "colab": {
          "base_uri": "https://localhost:8080/"
        },
        "id": "DUI9GnpXdtQF",
        "outputId": "efe7176a-1713-4eda-a546-4efe1da6e4a5"
      },
      "execution_count": null,
      "outputs": [
        {
          "output_type": "stream",
          "name": "stdout",
          "text": [
            "0      5\n",
            "1      6\n",
            "2      9\n",
            "3     10\n",
            "4     12\n",
            "5     15\n",
            "6     18\n",
            "7     20\n",
            "8     21\n",
            "9     24\n",
            "10    25\n",
            "11    27\n",
            "12    30\n",
            "13    33\n",
            "14    35\n",
            "15    36\n",
            "16    39\n",
            "17    40\n",
            "18    42\n",
            "19    45\n",
            "20    48\n",
            "dtype: int64\n"
          ]
        }
      ]
    },
    {
      "cell_type": "code",
      "source": [
        "#even numbers ko +5 karo\n",
        "#series create karo jo divisble by 3&5\n",
        "s1 = pd.Series(np.arange(3,50))\n",
        "s2 = s1[(s1%2==0)]\n",
        "s2+=5\n",
        "print(s2)"
      ],
      "metadata": {
        "colab": {
          "base_uri": "https://localhost:8080/"
        },
        "id": "rYNJyQSfcJeD",
        "outputId": "334bfa5a-506e-4cc6-cea3-a9c1f9a87088"
      },
      "execution_count": null,
      "outputs": [
        {
          "output_type": "stream",
          "name": "stdout",
          "text": [
            "1      9\n",
            "3     11\n",
            "5     13\n",
            "7     15\n",
            "9     17\n",
            "11    19\n",
            "13    21\n",
            "15    23\n",
            "17    25\n",
            "19    27\n",
            "21    29\n",
            "23    31\n",
            "25    33\n",
            "27    35\n",
            "29    37\n",
            "31    39\n",
            "33    41\n",
            "35    43\n",
            "37    45\n",
            "39    47\n",
            "41    49\n",
            "43    51\n",
            "45    53\n",
            "dtype: int64\n"
          ]
        }
      ]
    },
    {
      "cell_type": "code",
      "source": [
        "#create a pandas series\n",
        "data = pd.Series([1,2,3,4,5,6,7,8,9,10])\n",
        "sq_values =[]\n",
        "for value in data :\n",
        "  sq_values.append(value**2)\n",
        "sq_series = pd.Series(sq_values)\n",
        "print(sq_series)"
      ],
      "metadata": {
        "colab": {
          "base_uri": "https://localhost:8080/"
        },
        "id": "eomrBchpcr6z",
        "outputId": "5fa93e64-15a0-4126-c5ec-1d5bbf97a522"
      },
      "execution_count": null,
      "outputs": [
        {
          "output_type": "stream",
          "name": "stdout",
          "text": [
            "0      1\n",
            "1      4\n",
            "2      9\n",
            "3     16\n",
            "4     25\n",
            "5     36\n",
            "6     49\n",
            "7     64\n",
            "8     81\n",
            "9    100\n",
            "dtype: int64\n"
          ]
        }
      ]
    },
    {
      "cell_type": "code",
      "source": [],
      "metadata": {
        "id": "q21pwKwzgImP"
      },
      "execution_count": null,
      "outputs": []
    }
  ]
}